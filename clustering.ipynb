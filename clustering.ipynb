{
 "cells": [
  {
   "cell_type": "code",
   "execution_count": null,
   "metadata": {},
   "outputs": [],
   "source": [
    "%pip install seaborn"
   ]
  },
  {
   "cell_type": "code",
   "execution_count": 1,
   "metadata": {},
   "outputs": [],
   "source": [
    "import pandas as pd\n",
    "import geopandas as gpd\n",
    "from sklearn.cluster import KMeans\n",
    "import seaborn as sns\n",
    "import matplotlib.colors as mcolors\n",
    "import matplotlib.pyplot as plt\n",
    "import matplotlib.patches as mpatches\n",
    "from sklearn.metrics import silhouette_score"
   ]
  },
  {
   "cell_type": "code",
   "execution_count": 2,
   "metadata": {},
   "outputs": [],
   "source": [
    "gdf = gpd.read_file(\"data/administrative_units/gradovi_opcine_zupanije.geojson\")\n",
    "gdf['Županija'] = gdf['text_right'].str.strip()\n",
    "gdf['Grad/općina'] = gdf['text_left'].str.strip()"
   ]
  },
  {
   "cell_type": "code",
   "execution_count": 3,
   "metadata": {},
   "outputs": [],
   "source": [
    "def create_static_map(df, cluster_colors):\n",
    "    # Plot the GeoDataFrame using the assigned colors\n",
    "    fig, ax = plt.subplots(1, 1, figsize=(12, 12))\n",
    "    df.plot(\n",
    "        color=df['Color'],\n",
    "        ax=ax\n",
    "    )\n",
    "    \n",
    "    # Sort the clusters in ascending order\n",
    "    sorted_clusters = sorted(df['Cluster'].unique())\n",
    "    \n",
    "    # Create the legend patches in sorted order\n",
    "    legend_patches = [\n",
    "        mpatches.Patch(color=cluster_colors[label], label=f\"Cluster {label}\")\n",
    "        for label in sorted_clusters\n",
    "    ]\n",
    "    \n",
    "    # Add the legend to the plot\n",
    "    plt.legend(\n",
    "        handles=legend_patches,\n",
    "        title=\"Clusters\",\n",
    "        loc=\"upper left\"\n",
    "    )\n",
    "\n",
    "    plt.show()"
   ]
  },
  {
   "cell_type": "code",
   "execution_count": 4,
   "metadata": {},
   "outputs": [],
   "source": [
    "def determine_number_of_clusters(df, features):\n",
    "  data = df[features].copy() \n",
    "\n",
    "  # Range of k values to try\n",
    "  k_values = range(2, 9)\n",
    "\n",
    "  inertia = []\n",
    "  silhouette_scores = []\n",
    "\n",
    "  for k in k_values:\n",
    "      kmeans = KMeans(n_clusters=k, random_state=42, n_init=50)\n",
    "      kmeans.fit(data)  \n",
    "      inertia.append(kmeans.inertia_)\n",
    "      silhouette_scores.append(silhouette_score(data, kmeans.labels_))\n",
    "\n",
    "  # Plot Elbow Method\n",
    "  plt.figure(figsize=(8, 4))\n",
    "  plt.subplot(1, 2, 1)\n",
    "  plt.plot(k_values, inertia, marker='o')\n",
    "  plt.title('Elbow Method')\n",
    "  plt.xlabel('Number of clusters (k)')\n",
    "  plt.ylabel('Inertia')\n",
    "\n",
    "  # Plot Silhouette Score\n",
    "  plt.subplot(1, 2, 2)\n",
    "  plt.plot(k_values, silhouette_scores, marker='o')\n",
    "  plt.title('Silhouette Score')\n",
    "  plt.xlabel('Number of clusters (k)')\n",
    "  plt.ylabel('Silhouette Score')\n",
    "\n",
    "  plt.tight_layout()\n",
    "  plt.show()"
   ]
  },
  {
   "cell_type": "code",
   "execution_count": 5,
   "metadata": {},
   "outputs": [],
   "source": [
    "def cluster(df, features, k):\n",
    "    data = df[features].copy()\n",
    "    kmeans = KMeans(n_clusters=k, n_init=50)\n",
    "    kmeans.fit(data)\n",
    "\n",
    "    # Create a copy of the original DataFrame to avoid modifying it in place\n",
    "    df_copy = df.copy()\n",
    "\n",
    "    # Add cluster labels to the copied DataFrame\n",
    "    df_copy['Cluster'] = kmeans.labels_\n",
    "\n",
    "    # Create and format the cluster centers DataFrame\n",
    "    cluster_centers_df = pd.DataFrame(kmeans.cluster_centers_, columns=features).T\n",
    "    formatted_df = cluster_centers_df.style.format(\"{:.6f}\")\n",
    "\n",
    "    # Define a color palette for the clusters\n",
    "    palette = sns.color_palette(\"Set2\", n_colors=df_copy['Cluster'].nunique())\n",
    "    cluster_colors = {label: mcolors.to_hex(color) for label, color in enumerate(palette)}\n",
    "    df_copy['Color'] = df_copy['Cluster'].map(cluster_colors)\n",
    "\n",
    "    # Call the function to create the map\n",
    "    create_static_map(df_copy, cluster_colors)\n",
    "\n",
    "    # Return the formatted cluster table and the modified DataFrame\n",
    "    return formatted_df, df_copy\n"
   ]
  },
  {
   "cell_type": "markdown",
   "metadata": {},
   "source": [
    "IZBORNI REZULTATI"
   ]
  },
  {
   "cell_type": "code",
   "execution_count": null,
   "metadata": {},
   "outputs": [],
   "source": [
    "election_results = pd.read_csv(\"data/election_results/kombinirani_rezultati.csv\")\n",
    "\n",
    "party_percentages = election_results.columns[34:61] \n",
    "party_percentages = list(party_percentages)\n",
    "print(party_percentages)"
   ]
  },
  {
   "cell_type": "code",
   "execution_count": 7,
   "metadata": {},
   "outputs": [],
   "source": [
    "election_results['Županija'] = election_results['Županija'].str.strip()  # Strip any extra spaces\n",
    "election_results['Grad/općina'] = election_results['Grad/općina/država'].str.strip()\n",
    "\n",
    "df = gdf.merge(election_results, on=['Županija', 'Grad/općina'], how='inner')"
   ]
  },
  {
   "cell_type": "code",
   "execution_count": null,
   "metadata": {},
   "outputs": [],
   "source": [
    "determine_number_of_clusters(df, party_percentages)"
   ]
  },
  {
   "cell_type": "code",
   "execution_count": null,
   "metadata": {},
   "outputs": [],
   "source": [
    "formatted_cluster_table, clustered_df = cluster(df, party_percentages, 4)\n",
    "formatted_cluster_table"
   ]
  },
  {
   "cell_type": "markdown",
   "metadata": {},
   "source": [
    "BRAČNI STATUS"
   ]
  },
  {
   "cell_type": "code",
   "execution_count": null,
   "metadata": {},
   "outputs": [],
   "source": [
    "census_df = pd.read_csv(\"data/census/bračni_status.csv\")\n",
    "census_percentages = census_df.columns[16:26]\n",
    "census_percentages =list(census_percentages)\n",
    "print(census_percentages)\n",
    "df = gdf.merge(census_df, on=['Županija', 'Grad/općina'], how='inner')\n",
    "df = df[df['Starost'] == 'Ukupno']"
   ]
  },
  {
   "cell_type": "code",
   "execution_count": null,
   "metadata": {},
   "outputs": [],
   "source": [
    "determine_number_of_clusters(df, census_percentages)"
   ]
  },
  {
   "cell_type": "code",
   "execution_count": null,
   "metadata": {},
   "outputs": [],
   "source": [
    "formatted_cluster_table, clustered_df = cluster(df, census_percentages, 3)\n",
    "formatted_cluster_table"
   ]
  },
  {
   "cell_type": "markdown",
   "metadata": {},
   "source": [
    "BROJ ŽIVOROĐENE DJECE"
   ]
  },
  {
   "cell_type": "code",
   "execution_count": null,
   "metadata": {},
   "outputs": [],
   "source": [
    "census_df = pd.read_csv(\"data/census/broj_živorođene_djece.csv\")\n",
    "census_percentages = census_df.columns[[17] + list(range(19, 30))]\n",
    "census_percentages =list(census_percentages)\n",
    "print(census_percentages)\n",
    "df = gdf.merge(census_df, on=['Županija', 'Grad/općina'], how='inner')\n",
    "df = df[df['Starost'] == 'Ukupno']"
   ]
  },
  {
   "cell_type": "code",
   "execution_count": null,
   "metadata": {},
   "outputs": [],
   "source": [
    "determine_number_of_clusters(df, census_percentages)"
   ]
  },
  {
   "cell_type": "code",
   "execution_count": null,
   "metadata": {},
   "outputs": [],
   "source": [
    "formatted_cluster_table, clustered_df = cluster(df, census_percentages, 3)\n",
    "formatted_cluster_table"
   ]
  },
  {
   "cell_type": "markdown",
   "metadata": {},
   "source": [
    "DOB"
   ]
  },
  {
   "cell_type": "code",
   "execution_count": null,
   "metadata": {},
   "outputs": [],
   "source": [
    "census_df = pd.read_csv(\"data/census/dob.csv\")\n",
    "census_percentages = census_df.columns[[14] + [18] +[23] + [25]]\n",
    "census_percentages =list(census_percentages)\n",
    "print(census_percentages)\n",
    "df = gdf.merge(census_df, on=['Županija', 'Grad/općina'], how='inner')\n",
    "df = df[df['Spol'] == 'sv.']"
   ]
  },
  {
   "cell_type": "code",
   "execution_count": null,
   "metadata": {},
   "outputs": [],
   "source": [
    "determine_number_of_clusters(df, census_percentages)"
   ]
  },
  {
   "cell_type": "code",
   "execution_count": null,
   "metadata": {},
   "outputs": [],
   "source": [
    "formatted_cluster_table, clustered_df = cluster(df, census_percentages, 4)\n",
    "formatted_cluster_table"
   ]
  },
  {
   "cell_type": "markdown",
   "metadata": {},
   "source": [
    "DRŽAVLJANSTVO"
   ]
  },
  {
   "cell_type": "code",
   "execution_count": null,
   "metadata": {},
   "outputs": [],
   "source": [
    "census_df = pd.read_csv(\"data/census/državljanstvo.csv\")\n",
    "census_df['Samo Hrvatsko %'] = (census_df['Hrvatsko (ukupno)'] - census_df['Hrvatsko i drugo']) / census_df['Ukupno'] *100\n",
    "\n",
    "census_percentages = census_df.columns[[7] + [9] + [11]]\n",
    "census_percentages =list(census_percentages)\n",
    "census_percentages.append('Samo Hrvatsko %')\n",
    "print(census_percentages)\n",
    "df = gdf.merge(census_df, on=['Županija', 'Grad/općina'], how='inner')"
   ]
  },
  {
   "cell_type": "code",
   "execution_count": null,
   "metadata": {},
   "outputs": [],
   "source": [
    "determine_number_of_clusters(df, census_percentages)"
   ]
  },
  {
   "cell_type": "code",
   "execution_count": null,
   "metadata": {},
   "outputs": [],
   "source": [
    "formatted_cluster_table, clustered_df = cluster(df, census_percentages, 4)\n",
    "formatted_cluster_table"
   ]
  },
  {
   "cell_type": "markdown",
   "metadata": {},
   "source": [
    "EKONOMSKA AKTIVNOST"
   ]
  },
  {
   "cell_type": "code",
   "execution_count": null,
   "metadata": {},
   "outputs": [],
   "source": [
    "census_df = pd.read_csv(\"data/census/ekonomska_aktivnost.csv\")\n",
    "census_percentages = census_df.columns[[16] + [17] + list(range(19,25))]\n",
    "census_percentages =list(census_percentages)\n",
    "print(census_percentages)\n",
    "df = gdf.merge(census_df, on=['Županija', 'Grad/općina'], how='inner')\n",
    "df = df[(df['Spol'] == 'sv.') & (df['Starost'] == 'Ukupno')]"
   ]
  },
  {
   "cell_type": "code",
   "execution_count": null,
   "metadata": {},
   "outputs": [],
   "source": [
    "determine_number_of_clusters(df, census_percentages)"
   ]
  },
  {
   "cell_type": "code",
   "execution_count": null,
   "metadata": {},
   "outputs": [],
   "source": [
    "formatted_cluster_table, clustered_df = cluster(df, census_percentages, 5)\n",
    "formatted_cluster_table"
   ]
  },
  {
   "cell_type": "markdown",
   "metadata": {},
   "source": [
    "MATERINSKI JEZIK"
   ]
  },
  {
   "cell_type": "code",
   "execution_count": null,
   "metadata": {},
   "outputs": [],
   "source": [
    "census_df = pd.read_csv(\"data/census/materinski_jezik.csv\")\n",
    "census_percentages = [col for col in census_df.columns[5:56] if col.endswith('%')]\n",
    "census_percentages =list(census_percentages)\n",
    "print(census_percentages)\n",
    "df = gdf.merge(census_df, on=['Županija', 'Grad/općina'], how='inner')"
   ]
  },
  {
   "cell_type": "code",
   "execution_count": null,
   "metadata": {},
   "outputs": [],
   "source": [
    "determine_number_of_clusters(df, census_percentages)"
   ]
  },
  {
   "cell_type": "code",
   "execution_count": null,
   "metadata": {},
   "outputs": [],
   "source": [
    "formatted_cluster_table, clustered_df = cluster(df, census_percentages, 5)\n",
    "formatted_cluster_table"
   ]
  },
  {
   "cell_type": "markdown",
   "metadata": {},
   "source": [
    "MIGRACIJSKA OBILJEŽJA"
   ]
  },
  {
   "cell_type": "code",
   "execution_count": null,
   "metadata": {},
   "outputs": [],
   "source": [
    "census_df = pd.read_csv(\"data/census/migracijska_obilježja.csv\")\n",
    "census_df['Od rođenja u istom gradu/općini %'] = (census_df['Od rođenja stanuju u istom naselju'] + census_df['Iz drugog naselja istoga grada ili općine1)']) / census_df['Ukupan broj stanovnika'] * 100\n",
    "census_percentages = [col for col in census_df.columns[list(range(20,22)) + list(range(23,30))] if col.endswith('%')]\n",
    "census_percentages =list(census_percentages)\n",
    "census_percentages.append('Od rođenja u istom gradu/općini %')\n",
    "print(census_percentages)\n",
    "df = gdf.merge(census_df, on=['Županija', 'Grad/općina'], how='inner')\n",
    "df = df[df['Spol'] == 'sv.']"
   ]
  },
  {
   "cell_type": "code",
   "execution_count": null,
   "metadata": {},
   "outputs": [],
   "source": [
    "determine_number_of_clusters(df, census_percentages)"
   ]
  },
  {
   "cell_type": "code",
   "execution_count": null,
   "metadata": {},
   "outputs": [],
   "source": [
    "formatted_cluster_table, clustered_df = cluster(df, census_percentages, 4)\n",
    "formatted_cluster_table"
   ]
  },
  {
   "cell_type": "markdown",
   "metadata": {},
   "source": [
    "MJESTO ROĐENJA"
   ]
  },
  {
   "cell_type": "code",
   "execution_count": null,
   "metadata": {},
   "outputs": [],
   "source": [
    "census_df = pd.read_csv(\"data/census/mjesto_rođenja_stanovanja.csv\")\n",
    "census_df['Rođeni u gradu/općini stanovanja %'] = (census_df['U mjestu stanovanja'] + census_df['U drugom naselju istoga grada/općine2)']) / census_df['Ukupan broj stanovnika'] * 100\n",
    "census_percentages = [col for col in census_df.columns[list(range(22,25)) + list(range(26, 33))] if col.endswith('%')]\n",
    "census_percentages =list(census_percentages)\n",
    "census_percentages.append('Rođeni u gradu/općini stanovanja %')\n",
    "print(census_percentages)\n",
    "df = gdf.merge(census_df, on=['Županija', 'Grad/općina'], how='inner')\n",
    "df = df[df['Spol'] == 'sv.']"
   ]
  },
  {
   "cell_type": "code",
   "execution_count": null,
   "metadata": {},
   "outputs": [],
   "source": [
    "determine_number_of_clusters(df, census_percentages)"
   ]
  },
  {
   "cell_type": "code",
   "execution_count": null,
   "metadata": {},
   "outputs": [],
   "source": [
    "formatted_cluster_table, clustered_df = cluster(df, census_percentages, 3)\n",
    "formatted_cluster_table"
   ]
  },
  {
   "cell_type": "markdown",
   "metadata": {},
   "source": [
    "NARODNOST"
   ]
  },
  {
   "cell_type": "code",
   "execution_count": null,
   "metadata": {},
   "outputs": [],
   "source": [
    "census_df = pd.read_csv(\"data/census/narodnost.csv\")\n",
    "census_percentages = [col for col in census_df.columns[5:62] if col.endswith('%')]\n",
    "census_percentages =list(census_percentages)\n",
    "print(census_percentages)\n",
    "df = gdf.merge(census_df, on=['Županija', 'Grad/općina'], how='inner')"
   ]
  },
  {
   "cell_type": "code",
   "execution_count": null,
   "metadata": {},
   "outputs": [],
   "source": [
    "determine_number_of_clusters(df, census_percentages)"
   ]
  },
  {
   "cell_type": "code",
   "execution_count": null,
   "metadata": {},
   "outputs": [],
   "source": [
    "formatted_cluster_table, clustered_df = cluster(df, census_percentages, 4)\n",
    "formatted_cluster_table"
   ]
  },
  {
   "cell_type": "markdown",
   "metadata": {},
   "source": [
    "PODRUČJE DJELATNOSTI"
   ]
  },
  {
   "cell_type": "code",
   "execution_count": null,
   "metadata": {},
   "outputs": [],
   "source": [
    "census_df = pd.read_csv(\"data/census/područje_djelatnosti.csv\")\n",
    "census_percentages = [col for col in census_df.columns if col.endswith('%')]\n",
    "census_percentages =list(census_percentages)\n",
    "print(census_percentages)\n",
    "df = gdf.merge(census_df, on=['Županija', 'Grad/općina'], how='inner')\n",
    "df = df[(df['Starost'] == 'Ukupno') & (df['Spol'] == 'sv.')]"
   ]
  },
  {
   "cell_type": "code",
   "execution_count": null,
   "metadata": {},
   "outputs": [],
   "source": [
    "determine_number_of_clusters(df, census_percentages)"
   ]
  },
  {
   "cell_type": "code",
   "execution_count": null,
   "metadata": {},
   "outputs": [],
   "source": [
    "formatted_cluster_table, clustered_df = cluster(df, census_percentages, 4)\n",
    "formatted_cluster_table"
   ]
  },
  {
   "cell_type": "markdown",
   "metadata": {},
   "source": [
    "POHAĐANJE ŠKOLE"
   ]
  },
  {
   "cell_type": "code",
   "execution_count": null,
   "metadata": {},
   "outputs": [],
   "source": [
    "census_df = pd.read_csv(\"data/census/pohađanje_škole.csv\")\n",
    "census_percentages = census_df.columns[[22] + [24] + [25] + list(range(27,31)) + [32] + [33] + list(range(35,40))]\n",
    "census_percentages =list(census_percentages)\n",
    "print(census_percentages)\n",
    "df = gdf.merge(census_df, on=['Županija', 'Grad/općina'], how='inner')\n",
    "df = df[df['Spol'] == 'sv.']"
   ]
  },
  {
   "cell_type": "code",
   "execution_count": null,
   "metadata": {},
   "outputs": [],
   "source": [
    "determine_number_of_clusters(df, census_percentages)"
   ]
  },
  {
   "cell_type": "code",
   "execution_count": null,
   "metadata": {},
   "outputs": [],
   "source": [
    "formatted_cluster_table, clustered_df = cluster(df, census_percentages, 4)\n",
    "formatted_cluster_table"
   ]
  },
  {
   "cell_type": "code",
   "execution_count": null,
   "metadata": {},
   "outputs": [],
   "source": [
    "census_df = pd.read_csv(\"data/census/pohađanje_škole.csv\")\n",
    "census_percentages = census_df.columns[27:31]\n",
    "census_percentages =list(census_percentages)\n",
    "print(census_percentages)\n",
    "df = gdf.merge(census_df, on=['Županija', 'Grad/općina'], how='inner')\n",
    "df = df[df['Spol'] == 'sv.']"
   ]
  },
  {
   "cell_type": "code",
   "execution_count": null,
   "metadata": {},
   "outputs": [],
   "source": [
    "determine_number_of_clusters(df, census_percentages)"
   ]
  },
  {
   "cell_type": "code",
   "execution_count": null,
   "metadata": {},
   "outputs": [],
   "source": [
    "formatted_cluster_table, clustered_df = cluster(df, census_percentages, 4)\n",
    "formatted_cluster_table"
   ]
  },
  {
   "cell_type": "markdown",
   "metadata": {},
   "source": [
    "POLOŽAJ U ZAPOSLENJU"
   ]
  },
  {
   "cell_type": "code",
   "execution_count": null,
   "metadata": {},
   "outputs": [],
   "source": [
    "census_df = pd.read_csv(\"data/census/položaj_u_zaposlenju.csv\")\n",
    "census_percentages = census_df.columns[[12] + list(range(14,19))]\n",
    "census_percentages =list(census_percentages)\n",
    "print(census_percentages)\n",
    "df = gdf.merge(census_df, on=['Županija', 'Grad/općina'], how='inner')\n",
    "df = df[(df['Spol'] == 'sv.') & (df['Starost'] == 'Ukupno')]"
   ]
  },
  {
   "cell_type": "code",
   "execution_count": null,
   "metadata": {},
   "outputs": [],
   "source": [
    "determine_number_of_clusters(df, census_percentages)"
   ]
  },
  {
   "cell_type": "code",
   "execution_count": null,
   "metadata": {},
   "outputs": [],
   "source": [
    "formatted_cluster_table, clustered_df = cluster(df, census_percentages, 4)\n",
    "formatted_cluster_table"
   ]
  },
  {
   "cell_type": "markdown",
   "metadata": {},
   "source": [
    "VJERA"
   ]
  },
  {
   "cell_type": "code",
   "execution_count": null,
   "metadata": {},
   "outputs": [],
   "source": [
    "census_df = pd.read_csv(\"data/census/vjera.csv\")\n",
    "census_percentages = [col for col in census_df.columns[5:28] if col.endswith('%')]\n",
    "census_percentages =list(census_percentages)\n",
    "print(census_percentages)\n",
    "df = gdf.merge(census_df, on=['Županija', 'Grad/općina'], how='inner')"
   ]
  },
  {
   "cell_type": "code",
   "execution_count": null,
   "metadata": {},
   "outputs": [],
   "source": [
    "determine_number_of_clusters(df, census_percentages)"
   ]
  },
  {
   "cell_type": "code",
   "execution_count": null,
   "metadata": {},
   "outputs": [],
   "source": [
    "formatted_cluster_table, clustered_df = cluster(df, census_percentages, 4)\n",
    "formatted_cluster_table"
   ]
  },
  {
   "cell_type": "markdown",
   "metadata": {},
   "source": [
    "ZAPOSLENOST PREMA ZANIMANJU"
   ]
  },
  {
   "cell_type": "code",
   "execution_count": null,
   "metadata": {},
   "outputs": [],
   "source": [
    "census_df = pd.read_csv(\"data/census/zaposlenost_prema_zanimanju.csv\")\n",
    "census_percentages = [col for col in census_df.columns if col.endswith('%')]\n",
    "census_percentages =list(census_percentages)\n",
    "print(census_percentages)\n",
    "df = gdf.merge(census_df, on=['Županija', 'Grad/općina'], how='inner')\n",
    "df = df[(df['Starost'] == 'Ukupno') & (df['Spol'] == 'sv.')]"
   ]
  },
  {
   "cell_type": "code",
   "execution_count": null,
   "metadata": {},
   "outputs": [],
   "source": [
    "determine_number_of_clusters(df, census_percentages)"
   ]
  },
  {
   "cell_type": "code",
   "execution_count": null,
   "metadata": {},
   "outputs": [],
   "source": [
    "formatted_cluster_table, clustered_df = cluster(df, census_percentages, 5)\n",
    "formatted_cluster_table"
   ]
  },
  {
   "cell_type": "markdown",
   "metadata": {},
   "source": [
    "ZAVRŠENA ŠKOLA"
   ]
  },
  {
   "cell_type": "code",
   "execution_count": null,
   "metadata": {},
   "outputs": [],
   "source": [
    "census_df = pd.read_csv(\"data/census/završena_škola.csv\")\n",
    "census_percentages = census_df.columns[list(range(15,20)) + list(range(21,25))]\n",
    "census_percentages =list(census_percentages)\n",
    "print(census_percentages)\n",
    "df = gdf.merge(census_df, on=['Županija', 'Grad/općina'], how='inner')\n",
    "df = df[(df['Spol'] == 'sv.') & (df['Starost'] == 'Ukupno')]"
   ]
  },
  {
   "cell_type": "code",
   "execution_count": null,
   "metadata": {},
   "outputs": [],
   "source": [
    "determine_number_of_clusters(df, census_percentages)"
   ]
  },
  {
   "cell_type": "code",
   "execution_count": null,
   "metadata": {},
   "outputs": [],
   "source": [
    "formatted_cluster_table, clustered_df = cluster(df, census_percentages, 4)\n",
    "formatted_cluster_table"
   ]
  },
  {
   "cell_type": "markdown",
   "metadata": {},
   "source": [
    "VIŠE PODATAKA IZ POPISA"
   ]
  },
  {
   "cell_type": "code",
   "execution_count": null,
   "metadata": {},
   "outputs": [],
   "source": [
    "census_percentages = []\n",
    "\n",
    "bračni_status = pd.read_csv(\"data/census/bračni_status.csv\")\n",
    "bračni_status = bračni_status[bračni_status['Starost'] == 'Ukupno']\n",
    "bračni_status_percentages = bračni_status.columns[16:26]\n",
    "bračni_status_percentages =list(bračni_status_percentages)\n",
    "census_percentages += bračni_status_percentages\n",
    "\n",
    "br_djece = pd.read_csv(\"data/census/broj_živorođene_djece.csv\")\n",
    "br_djece = br_djece[br_djece['Starost'] == 'Ukupno']\n",
    "br_djece_percentages = br_djece.columns[[17] + list(range(19, 30))]\n",
    "br_djece_percentages =list(br_djece_percentages)\n",
    "census_percentages += br_djece_percentages\n",
    "\n",
    "dob = pd.read_csv(\"data/census/dob.csv\")\n",
    "dob = dob[dob['Spol'] == 'sv.']\n",
    "dob_percentages = dob.columns[[14] + [18] +[23] + [25]]\n",
    "dob_percentages =list(dob_percentages)\n",
    "census_percentages += dob_percentages\n",
    "\n",
    "ekonomska_aktivnost = pd.read_csv(\"data/census/ekonomska_aktivnost.csv\")\n",
    "ekonomska_aktivnost = ekonomska_aktivnost[(ekonomska_aktivnost['Spol'] == 'sv.') & (ekonomska_aktivnost['Starost'] == 'Ukupno')]\n",
    "ekonomska_aktivnost_percentages = ekonomska_aktivnost.columns[[16] + [17] + list(range(19,25))]\n",
    "ekonomska_aktivnost_percentages =list(ekonomska_aktivnost_percentages)\n",
    "census_percentages += ekonomska_aktivnost_percentages\n",
    "\n",
    "mjesto_rođenja = pd.read_csv(\"data/census/mjesto_rođenja_stanovanja.csv\")\n",
    "mjesto_rođenja = mjesto_rođenja[mjesto_rođenja['Spol'] == 'sv.']\n",
    "mjesto_rođenja['Rođeni u gradu/općini stanovanja %'] = (mjesto_rođenja['U mjestu stanovanja'] + mjesto_rođenja['U drugom naselju istoga grada/općine2)']) / mjesto_rođenja['Ukupan broj stanovnika'] * 100\n",
    "mjesto_rođenja_percentages = [col for col in mjesto_rođenja.columns[list(range(22,25)) + list(range(26, 33))] if col.endswith('%')]\n",
    "mjesto_rođenja_percentages =list(mjesto_rođenja_percentages)\n",
    "mjesto_rođenja_percentages.append('Rođeni u gradu/općini stanovanja %')\n",
    "census_percentages += mjesto_rođenja_percentages\n",
    "\n",
    "narodnost = pd.read_csv(\"data/census/narodnost.csv\")\n",
    "narodnost_percentages = [col for col in narodnost.columns[5:62] if col.endswith('%')]\n",
    "narodnost_percentages =list(narodnost_percentages)\n",
    "census_percentages += narodnost_percentages\n",
    "\n",
    "područje_djelatnosti = pd.read_csv(\"data/census/područje_djelatnosti.csv\")\n",
    "područje_djelatnosti = područje_djelatnosti[(područje_djelatnosti['Starost'] == 'Ukupno') & (područje_djelatnosti['Spol'] == 'sv.')]\n",
    "područje_djelatnosti_percentages = [col for col in područje_djelatnosti.columns if col.endswith('%')]\n",
    "područje_djelatnosti_percentages =list(područje_djelatnosti_percentages)\n",
    "census_percentages += područje_djelatnosti_percentages\n",
    "\n",
    "položaj_u_zaposlenju = pd.read_csv(\"data/census/položaj_u_zaposlenju.csv\")\n",
    "položaj_u_zaposlenju = položaj_u_zaposlenju[(položaj_u_zaposlenju['Spol'] == 'sv.') & (položaj_u_zaposlenju['Starost'] == 'Ukupno')]\n",
    "položaj_u_zaposlenju_percentages = položaj_u_zaposlenju.columns[[12] + list(range(14,19))]\n",
    "položaj_u_zaposlenju_percentages =list(položaj_u_zaposlenju_percentages)\n",
    "census_percentages += položaj_u_zaposlenju_percentages\n",
    "\n",
    "vjera = pd.read_csv(\"data/census/vjera.csv\")\n",
    "vjera_percentages = [col for col in vjera.columns[5:28] if col.endswith('%')]\n",
    "vjera_percentages =list(vjera_percentages)\n",
    "census_percentages += vjera_percentages\n",
    "\n",
    "završena_škola = pd.read_csv(\"data/census/završena_škola.csv\")\n",
    "završena_škola = završena_škola[(završena_škola['Spol'] == 'sv.') & (završena_škola['Starost'] == 'Ukupno')]\n",
    "završena_škola_percentages = završena_škola.columns[list(range(15,20)) + list(range(21,25))]\n",
    "završena_škola_percentages =list(završena_škola_percentages)\n",
    "census_percentages += završena_škola_percentages\n",
    "\n",
    "census_df = (\n",
    "    bračni_status\n",
    "    .merge(br_djece, on=['Županija', 'Grad/općina'], how='inner', suffixes=('bračni_status', '_br_djece'))\n",
    "    .merge(dob, on=['Županija', 'Grad/općina'], how='inner', suffixes=('', '_dob'))\n",
    "    .merge(ekonomska_aktivnost, on=['Županija', 'Grad/općina'], how='inner', suffixes=('', '_ekonomska_aktivnost'))\n",
    "    .merge(mjesto_rođenja, on=['Županija', 'Grad/općina'], how='inner', suffixes=('', '_mjesto_rođenja'))\n",
    "    .merge(narodnost, on=['Županija', 'Grad/općina'], how='inner', suffixes=('', '_narodnost'))\n",
    "    .merge(područje_djelatnosti, on=['Županija', 'Grad/općina'], how='inner', suffixes=('', '_područje_djelatnosti'))\n",
    "    .merge(položaj_u_zaposlenju, on=['Županija', 'Grad/općina'], how='inner', suffixes=('', '_položaj_u_zaposlenju'))\n",
    "    .merge(vjera, on=['Županija', 'Grad/općina'], how='inner', suffixes=('', '_vjera'))\n",
    "    .merge(završena_škola, on=['Županija', 'Grad/općina'], how='inner', suffixes=('', '_završena_škola'))\n",
    ")\n",
    "df = gdf.merge(census_df, on=['Županija', 'Grad/općina'], how='inner')\n",
    "\n",
    "print(census_percentages)"
   ]
  },
  {
   "cell_type": "code",
   "execution_count": null,
   "metadata": {},
   "outputs": [],
   "source": [
    "determine_number_of_clusters(df, census_percentages)"
   ]
  },
  {
   "cell_type": "code",
   "execution_count": null,
   "metadata": {},
   "outputs": [],
   "source": [
    "formatted_cluster_table, clustered_df = cluster(df, census_percentages, 8)\n",
    "formatted_cluster_table"
   ]
  },
  {
   "cell_type": "markdown",
   "metadata": {},
   "source": [
    "PODATCI IZ POPISA + REZULTATI IZBORA"
   ]
  },
  {
   "cell_type": "code",
   "execution_count": null,
   "metadata": {},
   "outputs": [],
   "source": [
    "election_results = pd.read_csv(\"data/election_results/kombinirani_rezultati.csv\")\n",
    "\n",
    "party_percentages = election_results.columns[34:61] \n",
    "party_percentages = list(party_percentages)\n",
    "print(party_percentages)\n",
    "\n",
    "election_results['Županija'] = election_results['Županija'].str.strip()  # Strip any extra spaces\n",
    "election_results['Grad/općina'] = election_results['Grad/općina/država'].str.strip()\n",
    "\n",
    "df = gdf.merge(election_results, on=['Županija', 'Grad/općina'], how='inner').merge(census_df, on=['Županija', 'Grad/općina'], how='inner')\n",
    "features = party_percentages + census_percentages\n",
    "print(features)"
   ]
  },
  {
   "cell_type": "code",
   "execution_count": null,
   "metadata": {},
   "outputs": [],
   "source": [
    "determine_number_of_clusters(df, features)"
   ]
  },
  {
   "cell_type": "code",
   "execution_count": null,
   "metadata": {},
   "outputs": [],
   "source": [
    "formatted_cluster_table, clustered_df = cluster(df, features, 8)\n",
    "formatted_cluster_table"
   ]
  }
 ],
 "metadata": {
  "kernelspec": {
   "display_name": "venv",
   "language": "python",
   "name": "python3"
  },
  "language_info": {
   "codemirror_mode": {
    "name": "ipython",
    "version": 3
   },
   "file_extension": ".py",
   "mimetype": "text/x-python",
   "name": "python",
   "nbconvert_exporter": "python",
   "pygments_lexer": "ipython3",
   "version": "3.12.3"
  }
 },
 "nbformat": 4,
 "nbformat_minor": 2
}
