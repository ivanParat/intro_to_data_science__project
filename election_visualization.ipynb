{
 "cells": [
  {
   "cell_type": "code",
   "execution_count": null,
   "metadata": {},
   "outputs": [],
   "source": [
    "%pip install pandas\n",
    "%pip install folium\n",
    "%pip install mapclassify\n",
    "%pip install geopandas\n",
    "%pip install selenium"
   ]
  },
  {
   "cell_type": "code",
   "execution_count": 2,
   "metadata": {},
   "outputs": [],
   "source": [
    "import pandas as pd\n",
    "import geopandas as gpd\n",
    "import folium\n",
    "from IPython.display import display"
   ]
  },
  {
   "cell_type": "code",
   "execution_count": 3,
   "metadata": {},
   "outputs": [],
   "source": [
    "# Load election data\n",
    "election_data = pd.read_csv(\"data/election_results/kombinirani_rezultati.csv\")\n",
    "\n",
    "# Load GeoJSON data\n",
    "geojson_data = gpd.read_file(\"data/administrative_units/gradovi_opcine_zupanije.geojson\")"
   ]
  },
  {
   "cell_type": "code",
   "execution_count": null,
   "metadata": {},
   "outputs": [],
   "source": [
    "print(election_data.head())\n",
    "print(geojson_data.head())\n",
    "\n",
    "# Ensure that the key columns are named consistently\n",
    "election_data['Županija'] = election_data['Županija'].str.strip()  # Strip any extra spaces\n",
    "election_data['Grad/općina'] = election_data['Grad/općina/država'].str.strip()\n",
    "\n",
    "geojson_data['Županija'] = geojson_data['text_right'].str.strip()\n",
    "geojson_data['Grad/općina'] = geojson_data['text_left'].str.strip()\n",
    "\n",
    "# Merge dataframes based on the matching columns\n",
    "parlamentarni_izbori = geojson_data.merge(election_data, on=['Županija', 'Grad/općina'], how='inner')"
   ]
  },
  {
   "cell_type": "code",
   "execution_count": null,
   "metadata": {},
   "outputs": [],
   "source": [
    "# Assuming parlamentarni_izbori is your already loaded GeoDataFrame\n",
    "# Calculate the percentage of Važeći listići divided by Ukupno birača\n",
    "parlamentarni_izbori['percentage'] = (parlamentarni_izbori['Važeći listići'] / parlamentarni_izbori['Ukupno birača']) * 100\n",
    "\n",
    "min_value = parlamentarni_izbori['percentage'].min()\n",
    "max_value = parlamentarni_izbori['percentage'].max()\n",
    "\n",
    "# Create a color map for the percentage (from blue to yellow to red)\n",
    "colormap = folium.LinearColormap(\n",
    "    colors=['blue','yellow','red'],\n",
    "    vmin=min_value,  # Minimum value for color map\n",
    "    vmax=max_value,  # Maximum value for color map\n",
    "    caption='Percentage of Važeći listići to Ukupno birača'\n",
    ")\n",
    "\n",
    "# Add color column based on percentage\n",
    "parlamentarni_izbori['color'] = parlamentarni_izbori['percentage'].apply(lambda x: colormap(x))\n",
    "\n",
    "# Convert Timestamp columns to strings\n",
    "for col in parlamentarni_izbori.select_dtypes(include=['datetime64[ns, UTC]', 'datetime64[ns]']).columns:\n",
    "    parlamentarni_izbori[col] = parlamentarni_izbori[col].astype(str)\n",
    "\n",
    "# Prepare hover information\n",
    "parlamentarni_izbori['hover_info'] = parlamentarni_izbori.apply(\n",
    "    lambda row: f\"Županija: {row['Županija']}<br>Grad/Općina: {row['Grad/općina']}<br>Ukupno birača: {row['Ukupno birača']}<br>Važeći listići: {row['Važeći listići']}<br>Percentage: {row['percentage']:.2f}%\" +\n",
    "    ''.join([f\"<br>{col}: {row[col]}\" for col in parlamentarni_izbori.columns if col.endswith('%')]), axis=1\n",
    ")\n",
    "\n",
    "# Create a folium map centered on Croatia\n",
    "m = folium.Map(location=[45.1, 15.2], zoom_start=7)\n",
    "\n",
    "# Function to style each feature based on percentage\n",
    "def style_function(feature):\n",
    "    return {\n",
    "        'fillColor': feature['properties']['color'],\n",
    "        'color': 'black',\n",
    "        'weight': 1,\n",
    "        'fillOpacity': 0.5\n",
    "    }\n",
    "\n",
    "# Add GeoJSON layer with hover functionality\n",
    "folium.GeoJson(\n",
    "    parlamentarni_izbori,\n",
    "    style_function=style_function,\n",
    "    tooltip=folium.GeoJsonTooltip(\n",
    "        fields=['hover_info'], \n",
    "        aliases=['Info: '],\n",
    "        localize=True\n",
    "    )\n",
    ").add_to(m)\n",
    "\n",
    "# Add the colormap to the map\n",
    "colormap.add_to(m)\n",
    "\n",
    "# Display the map directly in the notebook\n",
    "display(m)\n"
   ]
  }
 ],
 "metadata": {
  "kernelspec": {
   "display_name": "venv",
   "language": "python",
   "name": "python3"
  },
  "language_info": {
   "codemirror_mode": {
    "name": "ipython",
    "version": 3
   },
   "file_extension": ".py",
   "mimetype": "text/x-python",
   "name": "python",
   "nbconvert_exporter": "python",
   "pygments_lexer": "ipython3",
   "version": "3.12.3"
  }
 },
 "nbformat": 4,
 "nbformat_minor": 2
}
