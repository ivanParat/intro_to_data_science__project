{
 "cells": [
  {
   "cell_type": "code",
   "execution_count": null,
   "metadata": {},
   "outputs": [],
   "source": [
    "%pip install geopandas"
   ]
  },
  {
   "cell_type": "markdown",
   "metadata": {},
   "source": [
    "Iz .gml datoteke koja sadrži podatke o koordinatama granica raznih geografskih jedinica u Hrvatskoj, izvući ćemo samo ono što nam je bitno(granice gradova i općina, te županija), i te podatke spremiti u odgovarajuće .geojson datoteke."
   ]
  },
  {
   "cell_type": "code",
   "execution_count": null,
   "metadata": {},
   "outputs": [],
   "source": [
    "import geopandas as gpd\n",
    "\n",
    "# Input GML file\n",
    "input_gml = \"data/administrative_units/AdministrativeUnit.gml\"\n",
    "\n",
    "# Load the data into a GeoDataFrame\n",
    "gdf = gpd.read_file(input_gml)\n",
    "\n",
    "# Filter rows by attribute \n",
    "gdf_gradovi_opcine = gdf[gdf[\"LocalisedCharacterString\"] == \"Jedinica lokalne samouprave\"]\n",
    "gdf_zupanije = gdf[gdf[\"LocalisedCharacterString\"] == \"Županija\"] \n",
    "\n",
    "# Imena županija ćemo pretvoriti u velika slova jer su ovdje mala, a u podatcima o izborima su velika\n",
    "gdf_zupanije.loc[:, \"text\"] = gdf_zupanije[\"text\"].str.upper()\n",
    "\n",
    "# Promijeniti ćemo default projekciju na karti\n",
    "gdf_gradovi_opcine = gdf_gradovi_opcine.to_crs(epsg=3765)\n",
    "gdf_zupanije = gdf_zupanije.to_crs(epsg=3765)\n",
    "\n",
    "# Output GeoJSON file\n",
    "output_geojson_gradovi_opcine = \"data/administrative_units/gradovi_opcine.geojson\"\n",
    "output_geojson_zupanije = \"data/administrative_units/zupanije.geojson\"\n",
    "\n",
    "# Save the filtered data as GeoJSON\n",
    "gdf_gradovi_opcine.to_file(output_geojson_gradovi_opcine, driver=\"GeoJSON\")\n",
    "gdf_zupanije.to_file(output_geojson_zupanije, driver=\"GeoJSON\")\n"
   ]
  },
  {
   "cell_type": "markdown",
   "metadata": {},
   "source": [
    "Trenutno, gradovi_opcine.geojson ne sadrži podatke o tome u kojoj se županiji nalazi grad/općina. To je problem jer ima nekoliko gradova/općina s istim imenom. Zato ćemo napraviti spatial join, koji će gradu/općini pridijeliti županiju na temelju podataka o koordinatama granica gradova/općina i županija."
   ]
  },
  {
   "cell_type": "code",
   "execution_count": null,
   "metadata": {},
   "outputs": [],
   "source": [
    "gdf = gpd.sjoin(gdf_gradovi_opcine, gdf_zupanije, how=\"left\", predicate=\"within\")\n",
    "\n",
    "gdf.to_file(\"data/administrative_units/gradovi_opcine_zupanije.geojson\", driver=\"GeoJSON\")"
   ]
  },
  {
   "cell_type": "markdown",
   "metadata": {},
   "source": [
    "Možemo prikazati gradove/općine na karti."
   ]
  },
  {
   "cell_type": "code",
   "execution_count": null,
   "metadata": {},
   "outputs": [],
   "source": [
    "%pip install matplotlib"
   ]
  },
  {
   "cell_type": "code",
   "execution_count": null,
   "metadata": {},
   "outputs": [],
   "source": [
    "gdf.plot(figsize=(10,10))"
   ]
  },
  {
   "cell_type": "markdown",
   "metadata": {},
   "source": [
    "Možemo prikazati i interaktivnu kartu."
   ]
  },
  {
   "cell_type": "code",
   "execution_count": null,
   "metadata": {},
   "outputs": [],
   "source": [
    "%pip install folium\n",
    "%pip install mapclassify"
   ]
  },
  {
   "cell_type": "code",
   "execution_count": null,
   "metadata": {},
   "outputs": [],
   "source": [
    "gdf.explore()"
   ]
  }
 ],
 "metadata": {
  "kernelspec": {
   "display_name": "venv",
   "language": "python",
   "name": "python3"
  },
  "language_info": {
   "codemirror_mode": {
    "name": "ipython",
    "version": 3
   },
   "file_extension": ".py",
   "mimetype": "text/x-python",
   "name": "python",
   "nbconvert_exporter": "python",
   "pygments_lexer": "ipython3",
   "version": "3.12.3"
  }
 },
 "nbformat": 4,
 "nbformat_minor": 2
}
