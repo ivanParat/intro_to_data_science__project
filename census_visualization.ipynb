{
 "cells": [
  {
   "cell_type": "markdown",
   "metadata": {},
   "source": [
    "Connecting data"
   ]
  },
  {
   "cell_type": "code",
   "execution_count": null,
   "metadata": {},
   "outputs": [],
   "source": [
    "%pip install pandas\n",
    "%pip install folium\n",
    "%pip install mapclassify\n",
    "%pip install geopandas\n",
    "%pip install selenium\n"
   ]
  },
  {
   "cell_type": "code",
   "execution_count": 1,
   "metadata": {},
   "outputs": [],
   "source": [
    "import pandas as pd\n",
    "import geopandas as gpd\n",
    "import folium\n",
    "from IPython.display import display"
   ]
  },
  {
   "cell_type": "code",
   "execution_count": 2,
   "metadata": {},
   "outputs": [],
   "source": [
    "# Load GeoJSON data\n",
    "geojson_data = gpd.read_file(\"data/administrative_units/gradovi_opcine_zupanije.geojson\")"
   ]
  },
  {
   "cell_type": "code",
   "execution_count": null,
   "metadata": {},
   "outputs": [],
   "source": [
    "# Ensure that the key columns are named consistently\n",
    "geojson_data['Županija'] = geojson_data['text_right'].str.strip()\n",
    "geojson_data['Grad/općina'] = geojson_data['text_left'].str.strip()"
   ]
  },
  {
   "cell_type": "code",
   "execution_count": 5,
   "metadata": {},
   "outputs": [],
   "source": [
    "def create_interactive_population_map(df, color_column_name):\n",
    "    # Merge dataframes based on the matching columns\n",
    "    df = geojson_data.merge(df, on=['Županija', 'Grad/općina'], how='inner')\n",
    "\n",
    "    # Ensure the necessary columns are present\n",
    "    if 'Županija' not in df.columns or 'Grad/općina' not in df.columns or 'Ukupno' not in df.columns:\n",
    "        raise ValueError(\"The CSV must contain 'Županija', 'Grad/općina', and 'Ukupno' columns.\")\n",
    "    \n",
    "    # Convert Timestamp columns to strings\n",
    "    for col in df.select_dtypes(include=['datetime64[ns, UTC]', 'datetime64[ns]']).columns:\n",
    "        df[col] = df[col].astype(str)\n",
    "\n",
    "    # Prepare hover information with columns that end with '%'\n",
    "    df['hover_info'] = df.apply(\n",
    "        lambda row: f\"Županija: {row['Županija']}<br>Grad/Općina: {row['Grad/općina']}<br>Ukupno: {row['Ukupno']}<br>\" +\n",
    "                    ''.join([f\"<br>{col}: {row[col]}\" for col in df.columns if col.endswith('%')]), axis=1\n",
    "    )\n",
    "    \n",
    "    # Check if the color_column_name exists in the DataFrame\n",
    "    if color_column_name not in df.columns:\n",
    "        raise ValueError(f\"The specified color column '{color_column_name}' does not exist in the CSV file.\")\n",
    "\n",
    "    # Create a color map based on the specified color column\n",
    "    min_value = df[color_column_name].min()\n",
    "    max_value = df[color_column_name].max()\n",
    "    \n",
    "    colormap = folium.LinearColormap(\n",
    "        colors=['blue', 'yellow', 'red'],\n",
    "        vmin=min_value, \n",
    "        vmax=max_value,\n",
    "        caption=color_column_name\n",
    "    )\n",
    "    \n",
    "    # Add color column based on the value of the specified column\n",
    "    df['color'] = df[color_column_name].apply(lambda x: colormap(x))\n",
    "\n",
    "    # Create a folium map centered on Croatia\n",
    "    m = folium.Map(location=[45.1, 15.2], zoom_start=7)\n",
    "\n",
    "    # Function to style each feature based on the color column\n",
    "    def style_function(feature):\n",
    "        return {\n",
    "            'fillColor': feature['properties']['color'],\n",
    "            'color': 'black',\n",
    "            'weight': 1,\n",
    "            'fillOpacity': 0.5\n",
    "        }\n",
    "\n",
    "    # Filter out rows with missing geometries\n",
    "    df = df.dropna(subset=['geometry'])\n",
    "\n",
    "    # Add GeoJSON layer with hover functionality\n",
    "    folium.GeoJson(\n",
    "        df,\n",
    "        style_function=style_function,\n",
    "        tooltip=folium.GeoJsonTooltip(\n",
    "            fields=['hover_info'], \n",
    "            aliases=['Info: '],\n",
    "            localize=True\n",
    "        )\n",
    "    ).add_to(m)\n",
    "\n",
    "    # Add the colormap to the map\n",
    "    colormap.add_to(m)\n",
    "\n",
    "    # Display the map directly in the notebook\n",
    "    display(m)\n"
   ]
  },
  {
   "cell_type": "code",
   "execution_count": 26,
   "metadata": {},
   "outputs": [],
   "source": [
    "def create_static_population_map(df, color_column_name):\n",
    "    # Merge dataframes based on the matching columns\n",
    "    df = geojson_data.merge(df, on=['Županija', 'Grad/općina'], how='inner')\n",
    "\n",
    "    # Ensure the necessary columns are present\n",
    "    if 'Županija' not in df.columns or 'Grad/općina' not in df.columns or 'Ukupno' not in df.columns:\n",
    "        raise ValueError(\"The CSV must contain 'Županija', 'Grad/općina', and 'Ukupno' columns.\")\n",
    "    \n",
    "    # Convert Timestamp columns to strings\n",
    "    for col in df.select_dtypes(include=['datetime64[ns, UTC]', 'datetime64[ns]']).columns:\n",
    "        df[col] = df[col].astype(str)\n",
    "    \n",
    "    # Check if the color_column_name exists in the DataFrame\n",
    "    if color_column_name not in df.columns:\n",
    "        raise ValueError(f\"The specified color column '{color_column_name}' does not exist in the CSV file.\")\n",
    "\n",
    "    df.plot(\n",
    "      column= color_column_name,\n",
    "      cmap='viridis',            \n",
    "      legend=True,               \n",
    "      figsize=(15, 15)            \n",
    "    ) \n",
    "\n",
    "    # Filter out rows with missing geometries\n",
    "    df = df.dropna(subset=['geometry'])"
   ]
  },
  {
   "cell_type": "markdown",
   "metadata": {},
   "source": [
    "STANOVNIŠTVO PREMA NARODNOSTI PO GRADOVIMA/OPĆINAMA, POPIS 2021."
   ]
  },
  {
   "cell_type": "code",
   "execution_count": 7,
   "metadata": {},
   "outputs": [],
   "source": [
    "narodnost = pd.read_csv('data/census/narodnost.csv')"
   ]
  },
  {
   "cell_type": "code",
   "execution_count": null,
   "metadata": {},
   "outputs": [],
   "source": [
    "create_interactive_population_map(narodnost, 'Hrvati, %')"
   ]
  },
  {
   "cell_type": "code",
   "execution_count": null,
   "metadata": {},
   "outputs": [],
   "source": [
    "create_static_population_map(narodnost, 'Hrvati, %')"
   ]
  },
  {
   "cell_type": "markdown",
   "metadata": {},
   "source": [
    "STANOVNIŠTVO PREMA VJERI PO GRADOVIMA/OPĆINAMA, POPIS 2021."
   ]
  },
  {
   "cell_type": "code",
   "execution_count": 19,
   "metadata": {},
   "outputs": [],
   "source": [
    "vjera = pd.read_csv('data/census/vjera.csv')"
   ]
  },
  {
   "cell_type": "code",
   "execution_count": null,
   "metadata": {},
   "outputs": [],
   "source": [
    "create_interactive_population_map(vjera, 'Katolici, %')"
   ]
  },
  {
   "cell_type": "code",
   "execution_count": null,
   "metadata": {},
   "outputs": [],
   "source": [
    "create_static_population_map(vjera, 'Katolici, %')"
   ]
  },
  {
   "cell_type": "markdown",
   "metadata": {},
   "source": [
    "STANOVNIŠTVO PREMA DRŽAVLJANSTVU PO GRADOVIMA/OPĆINAMA, POPIS 2021."
   ]
  },
  {
   "cell_type": "code",
   "execution_count": 28,
   "metadata": {},
   "outputs": [],
   "source": [
    "državljanstvo = pd.read_csv('data/census/državljanstvo.csv')"
   ]
  },
  {
   "cell_type": "code",
   "execution_count": null,
   "metadata": {},
   "outputs": [],
   "source": [
    "create_interactive_population_map(državljanstvo, 'Hrvatsko (ukupno), %')"
   ]
  },
  {
   "cell_type": "code",
   "execution_count": null,
   "metadata": {},
   "outputs": [],
   "source": [
    "create_static_population_map(državljanstvo, 'Hrvatsko (ukupno), %')"
   ]
  },
  {
   "cell_type": "markdown",
   "metadata": {},
   "source": [
    "STANOVNIŠTVO PREMA MATERINSKOM JEZIKU PO GRADOVIMA/OPĆINAMA, POPIS 2021."
   ]
  },
  {
   "cell_type": "code",
   "execution_count": 11,
   "metadata": {},
   "outputs": [],
   "source": [
    "materinski_jezik = pd.read_csv('data/census/materinski_jezik.csv')"
   ]
  },
  {
   "cell_type": "code",
   "execution_count": null,
   "metadata": {},
   "outputs": [],
   "source": [
    "create_interactive_population_map(materinski_jezik, 'Hrvatski, %')"
   ]
  },
  {
   "cell_type": "code",
   "execution_count": null,
   "metadata": {},
   "outputs": [],
   "source": [
    "create_static_population_map(materinski_jezik, 'Hrvatski, %')"
   ]
  }
 ],
 "metadata": {
  "kernelspec": {
   "display_name": "venv",
   "language": "python",
   "name": "python3"
  },
  "language_info": {
   "codemirror_mode": {
    "name": "ipython",
    "version": 3
   },
   "file_extension": ".py",
   "mimetype": "text/x-python",
   "name": "python",
   "nbconvert_exporter": "python",
   "pygments_lexer": "ipython3",
   "version": "3.12.3"
  }
 },
 "nbformat": 4,
 "nbformat_minor": 2
}
