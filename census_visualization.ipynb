{
 "cells": [
  {
   "cell_type": "markdown",
   "metadata": {},
   "source": [
    "Connecting data"
   ]
  },
  {
   "cell_type": "code",
   "execution_count": null,
   "metadata": {},
   "outputs": [],
   "source": [
    "%pip install pandas\n",
    "%pip install folium\n",
    "%pip install mapclassify\n",
    "%pip install geopandas\n",
    "%pip install selenium\n"
   ]
  },
  {
   "cell_type": "code",
   "execution_count": 48,
   "metadata": {},
   "outputs": [],
   "source": [
    "import pandas as pd\n",
    "import geopandas as gpd\n",
    "import folium\n",
    "from IPython.display import display\n",
    "import matplotlib.pyplot as plt\n",
    "import os"
   ]
  },
  {
   "cell_type": "code",
   "execution_count": 3,
   "metadata": {},
   "outputs": [],
   "source": [
    "# Load GeoJSON data\n",
    "geojson_data = gpd.read_file(\"data/administrative_units/gradovi_opcine_zupanije.geojson\")"
   ]
  },
  {
   "cell_type": "code",
   "execution_count": 4,
   "metadata": {},
   "outputs": [],
   "source": [
    "# Ensure that the key columns are named consistently\n",
    "geojson_data['Županija'] = geojson_data['text_right'].str.strip()\n",
    "geojson_data['Grad/općina'] = geojson_data['text_left'].str.strip()"
   ]
  },
  {
   "cell_type": "code",
   "execution_count": 49,
   "metadata": {},
   "outputs": [],
   "source": [
    "def create_interactive_population_map(df, color_column_name, folder_name):\n",
    "    # Merge dataframes based on the matching columns\n",
    "    df = geojson_data.merge(df, on=['Županija', 'Grad/općina'], how='inner')\n",
    "\n",
    "    # Ensure the necessary columns are present\n",
    "    if 'Županija' not in df.columns or 'Grad/općina' not in df.columns or 'Ukupno' not in df.columns:\n",
    "        raise ValueError(\"The CSV must contain 'Županija', 'Grad/općina', and 'Ukupno' columns.\")\n",
    "\n",
    "    # Convert Timestamp columns to strings\n",
    "    for col in df.select_dtypes(include=['datetime64[ns, UTC]', 'datetime64[ns]']).columns:\n",
    "        df[col] = df[col].astype(str)\n",
    "\n",
    "    # Prepare hover information with sorted percentage columns\n",
    "    def create_hover_info(row):\n",
    "        percentage_columns = [col for col in df.columns if col.endswith('%')]\n",
    "        sorted_percentages = sorted(\n",
    "            [(col, row[col]) for col in percentage_columns if not pd.isna(row[col])],\n",
    "            key=lambda x: x[1], reverse=True\n",
    "        )\n",
    "        \n",
    "        hover_text = (\n",
    "            f\"Županija: {row['Županija']}<br>\" \n",
    "            f\"Grad/Općina: {row['Grad/općina']}<br>\" \n",
    "            f\"Ukupno: {row['Ukupno']}<br>\"\n",
    "        )\n",
    "        hover_text += ''.join([f\"<br>{col}: {value}\" for col, value in sorted_percentages])\n",
    "        return hover_text\n",
    "\n",
    "    df['hover_info'] = df.apply(create_hover_info, axis=1)\n",
    "\n",
    "    # Check if the color_column_name exists in the DataFrame\n",
    "    if color_column_name not in df.columns:\n",
    "        raise ValueError(f\"The specified color column '{color_column_name}' does not exist in the CSV file.\")\n",
    "\n",
    "    # Create a color map based on the specified color column\n",
    "    min_value = df[color_column_name].min()\n",
    "    max_value = df[color_column_name].max()\n",
    "\n",
    "    colormap = folium.LinearColormap(\n",
    "        colors=['blue', 'yellow', 'red'],\n",
    "        vmin=min_value, \n",
    "        vmax=max_value,\n",
    "        caption=color_column_name\n",
    "    )\n",
    "\n",
    "    # Add color column based on the value of the specified column\n",
    "    df['color'] = df[color_column_name].apply(lambda x: colormap(x))\n",
    "\n",
    "    # Create a folium map centered on Croatia\n",
    "    m = folium.Map(location=[45.1, 15.2], zoom_start=7)\n",
    "\n",
    "    # Function to style each feature based on the color column\n",
    "    def style_function(feature):\n",
    "        return {\n",
    "            'fillColor': feature['properties']['color'],\n",
    "            'color': 'black',\n",
    "            'weight': 1,\n",
    "            'fillOpacity': 0.5\n",
    "        }\n",
    "\n",
    "    # Filter out rows with missing geometries\n",
    "    df = df.dropna(subset=['geometry'])\n",
    "\n",
    "    # Add GeoJSON layer with hover functionality\n",
    "    folium.GeoJson(\n",
    "        df,\n",
    "        style_function=style_function,\n",
    "        tooltip=folium.GeoJsonTooltip(\n",
    "            fields=['hover_info'], \n",
    "            aliases=['Info: '],\n",
    "            localize=True\n",
    "        )\n",
    "    ).add_to(m)\n",
    "\n",
    "    # Add the colormap to the map\n",
    "    colormap.add_to(m)\n",
    "\n",
    "    # Display the map directly in the notebook\n",
    "    display(m)\n",
    "\n",
    "    os.makedirs(f\"population_census/{folder_name}\", exist_ok=True)\n",
    "    # Update the file name to include the folder name\n",
    "    file_name = f\"population_census/{folder_name}/interactive_map.html\"\n",
    "\n",
    "    m.save(file_name)"
   ]
  },
  {
   "cell_type": "code",
   "execution_count": 13,
   "metadata": {},
   "outputs": [],
   "source": [
    "def create_static_population_map(df, color_column_name, folder_name):\n",
    "    # Merge dataframes based on the matching columns\n",
    "    df = geojson_data.merge(df, on=['Županija', 'Grad/općina'], how='inner')\n",
    "\n",
    "    # Ensure the necessary columns are present\n",
    "    if 'Županija' not in df.columns or 'Grad/općina' not in df.columns or 'Ukupno' not in df.columns:\n",
    "        raise ValueError(\"The CSV must contain 'Županija', 'Grad/općina', and 'Ukupno' columns.\")\n",
    "    \n",
    "    # Convert Timestamp columns to strings\n",
    "    for col in df.select_dtypes(include=['datetime64[ns, UTC]', 'datetime64[ns]']).columns:\n",
    "        df[col] = df[col].astype(str)\n",
    "    \n",
    "    # Check if the color_column_name exists in the DataFrame\n",
    "    if color_column_name not in df.columns:\n",
    "        raise ValueError(f\"The specified color column '{color_column_name}' does not exist in the CSV file.\")\n",
    "    \n",
    "    plot = df.plot(\n",
    "        column=color_column_name, \n",
    "        legend=True, \n",
    "        figsize=(15, 15)\n",
    "    )\n",
    "    plot.set_title(color_column_name, fontsize=14)\n",
    "\n",
    "    os.makedirs(f\"/population_census/{folder_name}\", exist_ok=True)\n",
    "    # Update the file name to include the folder name\n",
    "    # Replace '/' with '_' in the color_column_name to avoid issues with folder symbols\n",
    "    color_column_name_safe = color_column_name.replace('/', '')\n",
    "    file_name = f\"/population_census/{folder_name}/{color_column_name_safe}.png\"\n",
    "    # Save the plot as a PNG file\n",
    "    plot.figure.savefig(file_name, bbox_inches=\"tight\", dpi=300)\n",
    "\n",
    "    # Filter out rows with missing geometries\n",
    "    df = df.dropna(subset=['geometry'])"
   ]
  },
  {
   "cell_type": "code",
   "execution_count": 14,
   "metadata": {},
   "outputs": [],
   "source": [
    "def create_multiple_static_population_maps(df, folder_name):\n",
    "    # Create the directory if it doesn't exist\n",
    "    for col in df.columns:\n",
    "        if col.endswith('%') and col != 'Ukupno, %' and col != 'Ukupno %':\n",
    "            create_static_population_map(df, col, folder_name)\n",
    "    "
   ]
  },
  {
   "cell_type": "markdown",
   "metadata": {},
   "source": [
    "STANOVNIŠTVO PREMA NARODNOSTI PO GRADOVIMA/OPĆINAMA, POPIS 2021."
   ]
  },
  {
   "cell_type": "code",
   "execution_count": 50,
   "metadata": {},
   "outputs": [],
   "source": [
    "narodnost = pd.read_csv('data/census/narodnost.csv')"
   ]
  },
  {
   "cell_type": "code",
   "execution_count": null,
   "metadata": {},
   "outputs": [],
   "source": [
    "create_interactive_population_map(narodnost, 'Hrvati, %', 'narodnost')"
   ]
  },
  {
   "cell_type": "code",
   "execution_count": null,
   "metadata": {},
   "outputs": [],
   "source": [
    "create_multiple_static_population_maps(narodnost, 'narodnost')"
   ]
  },
  {
   "cell_type": "markdown",
   "metadata": {},
   "source": [
    "STANOVNIŠTVO PREMA VJERI PO GRADOVIMA/OPĆINAMA, POPIS 2021."
   ]
  },
  {
   "cell_type": "code",
   "execution_count": 11,
   "metadata": {},
   "outputs": [],
   "source": [
    "vjera = pd.read_csv('data/census/vjera.csv')"
   ]
  },
  {
   "cell_type": "code",
   "execution_count": null,
   "metadata": {},
   "outputs": [],
   "source": [
    "create_interactive_population_map(vjera, 'Katolici, %', 'vjera')"
   ]
  },
  {
   "cell_type": "code",
   "execution_count": null,
   "metadata": {},
   "outputs": [],
   "source": [
    "create_multiple_static_population_maps(vjera, 'vjera')"
   ]
  },
  {
   "cell_type": "markdown",
   "metadata": {},
   "source": [
    "STANOVNIŠTVO PREMA DRŽAVLJANSTVU PO GRADOVIMA/OPĆINAMA, POPIS 2021."
   ]
  },
  {
   "cell_type": "code",
   "execution_count": 14,
   "metadata": {},
   "outputs": [],
   "source": [
    "državljanstvo = pd.read_csv('data/census/državljanstvo.csv')"
   ]
  },
  {
   "cell_type": "code",
   "execution_count": null,
   "metadata": {},
   "outputs": [],
   "source": [
    "create_interactive_population_map(državljanstvo, 'Hrvatsko (ukupno), %', 'državljanstvo')"
   ]
  },
  {
   "cell_type": "code",
   "execution_count": null,
   "metadata": {},
   "outputs": [],
   "source": [
    "create_multiple_static_population_maps(državljanstvo, 'državljanstvo')"
   ]
  },
  {
   "cell_type": "markdown",
   "metadata": {},
   "source": [
    "STANOVNIŠTVO PREMA MATERINSKOM JEZIKU PO GRADOVIMA/OPĆINAMA, POPIS 2021."
   ]
  },
  {
   "cell_type": "code",
   "execution_count": 17,
   "metadata": {},
   "outputs": [],
   "source": [
    "materinski_jezik = pd.read_csv('data/census/materinski_jezik.csv')"
   ]
  },
  {
   "cell_type": "code",
   "execution_count": null,
   "metadata": {},
   "outputs": [],
   "source": [
    "create_interactive_population_map(materinski_jezik, 'Hrvatski, %', 'materinski_jezik')"
   ]
  },
  {
   "cell_type": "code",
   "execution_count": null,
   "metadata": {},
   "outputs": [],
   "source": [
    "create_multiple_static_population_maps(materinski_jezik, 'materinski_jezik')"
   ]
  },
  {
   "cell_type": "markdown",
   "metadata": {},
   "source": [
    "STANOVNIŠTVO PREMA BRAČNOM STATUSU PO GRADOVIMA/OPĆINAMA, POPIS 2021."
   ]
  },
  {
   "cell_type": "code",
   "execution_count": 20,
   "metadata": {},
   "outputs": [],
   "source": [
    "bračni_status = pd.read_csv('data/census/bračni_status.csv')\n",
    "bračni_status = bračni_status[bračni_status['Starost'] == 'Ukupno']"
   ]
  },
  {
   "cell_type": "code",
   "execution_count": null,
   "metadata": {},
   "outputs": [],
   "source": [
    "create_interactive_population_map(bračni_status, 'Neoženjen %', 'bračni_status')"
   ]
  },
  {
   "cell_type": "code",
   "execution_count": null,
   "metadata": {},
   "outputs": [],
   "source": [
    "create_multiple_static_population_maps(bračni_status, 'bračni_status')"
   ]
  },
  {
   "cell_type": "markdown",
   "metadata": {},
   "source": [
    "KONTINGENTI STANOVNIŠTVA PO GRADOVIMA/OPĆINAMA, POPIS 2021."
   ]
  },
  {
   "cell_type": "code",
   "execution_count": 43,
   "metadata": {},
   "outputs": [],
   "source": [
    "dob = pd.read_csv('data/census/dob.csv')\n",
    "dob = dob[dob['Spol'] == 'sv.']\n",
    "dob = dob.drop(columns=['Žensko stanovništvo 15 - 49 godina %', 'Žensko stanovništvo 20 - 29 godina %'])\n"
   ]
  },
  {
   "cell_type": "code",
   "execution_count": null,
   "metadata": {},
   "outputs": [],
   "source": [
    "create_interactive_population_map(dob, 'Radno sposobno stanovništvo %', 'dob')"
   ]
  },
  {
   "cell_type": "code",
   "execution_count": null,
   "metadata": {},
   "outputs": [],
   "source": [
    "create_multiple_static_population_maps(dob, 'dob')"
   ]
  },
  {
   "cell_type": "markdown",
   "metadata": {},
   "source": [
    "STANOVNIŠTVO STARO 15 I VIŠE GODINA PREMA NAJVIŠOJ ZAVRŠENOJ ŠKOLI, STAROSTI I SPOLU PO GRADOVIMA/OPĆINAMA, POPIS 2021.\n"
   ]
  },
  {
   "cell_type": "code",
   "execution_count": 26,
   "metadata": {},
   "outputs": [],
   "source": [
    "završena_škola = pd.read_csv('data/census/završena_škola.csv')\n",
    "završena_škola = završena_škola[(završena_škola['Starost'] == 'Ukupno') & (završena_škola['Spol'] == 'sv.')]"
   ]
  },
  {
   "cell_type": "code",
   "execution_count": null,
   "metadata": {},
   "outputs": [],
   "source": [
    "create_interactive_population_map(završena_škola, 'Srednja škola %', 'završena_škola')"
   ]
  },
  {
   "cell_type": "code",
   "execution_count": null,
   "metadata": {},
   "outputs": [],
   "source": [
    "create_multiple_static_population_maps(završena_škola, 'završena_škola')"
   ]
  },
  {
   "cell_type": "markdown",
   "metadata": {},
   "source": [
    "STANOVNIŠTVO PREMA POHAĐANJU ŠKOLE I SPOLU PO GRADOVIMA/OPĆINAMA, POPIS 2021.\n"
   ]
  },
  {
   "cell_type": "code",
   "execution_count": 29,
   "metadata": {},
   "outputs": [],
   "source": [
    "pohađanje_škole = pd.read_csv('data/census/pohađanje_škole.csv')\n",
    "pohađanje_škole = pohađanje_škole[pohađanje_škole['Spol'] == 'sv.']"
   ]
  },
  {
   "cell_type": "code",
   "execution_count": null,
   "metadata": {},
   "outputs": [],
   "source": [
    "create_interactive_population_map(pohađanje_škole, 'Srednja škola (ukupno) %', 'pohađanje_škole')"
   ]
  },
  {
   "cell_type": "code",
   "execution_count": null,
   "metadata": {},
   "outputs": [],
   "source": [
    "create_multiple_static_population_maps(pohađanje_škole, 'pohađanje_škole')"
   ]
  },
  {
   "cell_type": "markdown",
   "metadata": {},
   "source": [
    "ŽENE STARE 15 I VIŠE GODINA PREMA STAROSTI I BROJU ŽIVOROĐENE DJECE PO GRADOVIMA/OPĆINAMA, POPIS 2021.\n"
   ]
  },
  {
   "cell_type": "code",
   "execution_count": 32,
   "metadata": {},
   "outputs": [],
   "source": [
    "broj_živorođene_djece = pd.read_csv('data/census/broj_živorođene_djece.csv')\n",
    "broj_živorođene_djece = broj_živorođene_djece[broj_živorođene_djece['Starost'] == 'Ukupno']"
   ]
  },
  {
   "cell_type": "code",
   "execution_count": null,
   "metadata": {},
   "outputs": [],
   "source": [
    "create_interactive_population_map(broj_živorođene_djece, 'Rodile jedno ili više djece %', 'broj_živorođene_djece')"
   ]
  },
  {
   "cell_type": "code",
   "execution_count": null,
   "metadata": {},
   "outputs": [],
   "source": [
    "create_multiple_static_population_maps(broj_živorođene_djece, 'broj_živorođene_djece')"
   ]
  },
  {
   "cell_type": "markdown",
   "metadata": {},
   "source": [
    "STANOVNIŠTVO STARO 15 I VIŠE GODINA PREMA EKONOMSKOJ AKTIVNOSTI, STAROSTI I SPOLU PO GRADOVIMA/OPĆINAMA, POPIS 2021.\n"
   ]
  },
  {
   "cell_type": "code",
   "execution_count": 35,
   "metadata": {},
   "outputs": [],
   "source": [
    "ekonomska_aktivnost = pd.read_csv('data/census/ekonomska_aktivnost.csv')\n",
    "ekonomska_aktivnost = ekonomska_aktivnost[(ekonomska_aktivnost['Starost'] == 'Ukupno') & (ekonomska_aktivnost['Spol'] == 'sv.')]"
   ]
  },
  {
   "cell_type": "code",
   "execution_count": null,
   "metadata": {},
   "outputs": [],
   "source": [
    "create_interactive_population_map(ekonomska_aktivnost, 'Zaposleni %', 'ekonomska_aktivnost')"
   ]
  },
  {
   "cell_type": "code",
   "execution_count": null,
   "metadata": {},
   "outputs": [],
   "source": [
    "create_multiple_static_population_maps(ekonomska_aktivnost, 'ekonomska_aktivnost')"
   ]
  },
  {
   "cell_type": "markdown",
   "metadata": {},
   "source": [
    "ZAPOSLENI PREMA ZANIMANJU, STAROSTI I SPOLU PO GRADOVIMA/OPĆINAMA, POPIS 2021.\n"
   ]
  },
  {
   "cell_type": "code",
   "execution_count": 21,
   "metadata": {},
   "outputs": [],
   "source": [
    "zaposlenost_prema_zanimanju = pd.read_csv('data/census/zaposlenost_prema_zanimanju.csv')\n",
    "zaposlenost_prema_zanimanju = zaposlenost_prema_zanimanju[(zaposlenost_prema_zanimanju['Starost'] == 'Ukupno') & (zaposlenost_prema_zanimanju['Spol'] == 'sv.')]"
   ]
  },
  {
   "cell_type": "code",
   "execution_count": null,
   "metadata": {},
   "outputs": [],
   "source": [
    "create_interactive_population_map(zaposlenost_prema_zanimanju, 'Poljoprivrednici/poljoprivrednice, šumari/šumarke, ribari/ribarke, lovci/lovkinje %', 'zaposlenost_prema_zanimanju')"
   ]
  },
  {
   "cell_type": "code",
   "execution_count": null,
   "metadata": {},
   "outputs": [],
   "source": [
    "create_multiple_static_population_maps(zaposlenost_prema_zanimanju, 'zaposlenost_prema_zanimanju')"
   ]
  },
  {
   "cell_type": "markdown",
   "metadata": {},
   "source": [
    "ZAPOSLENI PREMA PODRUČJIMA DJELATNOSTI, STAROSTI I SPOLU PO GRADOVIMA/OPĆINAMA, POPIS 2021.\n"
   ]
  },
  {
   "cell_type": "code",
   "execution_count": 25,
   "metadata": {},
   "outputs": [],
   "source": [
    "područje_djelatnosti = pd.read_csv('data/census/područje_djelatnosti.csv')\n",
    "područje_djelatnosti = područje_djelatnosti[(područje_djelatnosti['Starost'] == 'Ukupno') & (područje_djelatnosti['Spol'] == 'sv.')]\n"
   ]
  },
  {
   "cell_type": "code",
   "execution_count": null,
   "metadata": {},
   "outputs": [],
   "source": [
    "create_interactive_population_map(područje_djelatnosti, 'A Poljoprivreda, šumarstvo i ribarstvo %', 'područje_djelatnosti')"
   ]
  },
  {
   "cell_type": "code",
   "execution_count": null,
   "metadata": {},
   "outputs": [],
   "source": [
    "create_multiple_static_population_maps(područje_djelatnosti, 'područje_djelatnosti')"
   ]
  },
  {
   "cell_type": "markdown",
   "metadata": {},
   "source": [
    "ZAPOSLENI PREMA POLOŽAJU U ZAPOSLENJU, STAROSTI I SPOLU PO GRADOVIMA/OPĆINAMA, POPIS 2021.\n"
   ]
  },
  {
   "cell_type": "code",
   "execution_count": 27,
   "metadata": {},
   "outputs": [],
   "source": [
    "položaj_u_zaposlenju = pd.read_csv('data/census/položaj_u_zaposlenju.csv')\n",
    "položaj_u_zaposlenju = položaj_u_zaposlenju[(položaj_u_zaposlenju['Starost'] == 'Ukupno') & (položaj_u_zaposlenju['Spol'] == 'sv.')]"
   ]
  },
  {
   "cell_type": "code",
   "execution_count": null,
   "metadata": {},
   "outputs": [],
   "source": [
    "create_interactive_population_map(položaj_u_zaposlenju, 'Zaposlenici %', 'položaj_u_zaposlenju')"
   ]
  },
  {
   "cell_type": "code",
   "execution_count": null,
   "metadata": {},
   "outputs": [],
   "source": [
    "create_multiple_static_population_maps(položaj_u_zaposlenju, 'položaj_u_zaposlenju')"
   ]
  },
  {
   "cell_type": "markdown",
   "metadata": {},
   "source": [
    "STANOVNIŠTVO PREMA MIGRACIJSKIM OBILJEŽJIMA I SPOLU PO GRADOVIMA/OPĆINAMA, POPIS 2021.\n"
   ]
  },
  {
   "cell_type": "code",
   "execution_count": 33,
   "metadata": {},
   "outputs": [],
   "source": [
    "migracijska_obilježja = pd.read_csv('data/census/migracijska_obilježja.csv')\n",
    "migracijska_obilježja = migracijska_obilježja.rename(columns={'Ukupan broj stanovnika': 'Ukupno'})\n",
    "migracijska_obilježja = migracijska_obilježja[(migracijska_obilježja['Spol'] == 'sv.')]"
   ]
  },
  {
   "cell_type": "code",
   "execution_count": null,
   "metadata": {},
   "outputs": [],
   "source": [
    "create_interactive_population_map(migracijska_obilježja, 'Od rođenja stanuju u istom naselju %', 'migracijska_obilježja')"
   ]
  },
  {
   "cell_type": "code",
   "execution_count": null,
   "metadata": {},
   "outputs": [],
   "source": [
    "create_multiple_static_population_maps(migracijska_obilježja, 'migracijska_obilježja')"
   ]
  },
  {
   "cell_type": "markdown",
   "metadata": {},
   "source": [
    "STANOVNIŠTVO PREMA MJESTU ROĐENJA I SPOLU PO GRADOVIMA/OPĆINAMA, POPIS 2021.\n"
   ]
  },
  {
   "cell_type": "code",
   "execution_count": 35,
   "metadata": {},
   "outputs": [],
   "source": [
    "mjesto_rođenja_stanovanja = pd.read_csv('data/census/mjesto_rođenja_stanovanja.csv')\n",
    "mjesto_rođenja_stanovanja = mjesto_rođenja_stanovanja.rename(columns={'Ukupan broj stanovnika': 'Ukupno'})\n",
    "mjesto_rođenja_stanovanja = mjesto_rođenja_stanovanja[(mjesto_rođenja_stanovanja['Spol'] == 'sv.')]"
   ]
  },
  {
   "cell_type": "code",
   "execution_count": null,
   "metadata": {},
   "outputs": [],
   "source": [
    "create_interactive_population_map(mjesto_rođenja_stanovanja, 'Rođeni u republici hrvatskoj (ukupno) %', 'mjesto_rođenja_stanovanja')  "
   ]
  },
  {
   "cell_type": "code",
   "execution_count": null,
   "metadata": {},
   "outputs": [],
   "source": [
    "create_multiple_static_population_maps(mjesto_rođenja_stanovanja, 'mjesto_rođenja_stanovanja')"
   ]
  }
 ],
 "metadata": {
  "kernelspec": {
   "display_name": "venv",
   "language": "python",
   "name": "python3"
  },
  "language_info": {
   "codemirror_mode": {
    "name": "ipython",
    "version": 3
   },
   "file_extension": ".py",
   "mimetype": "text/x-python",
   "name": "python",
   "nbconvert_exporter": "python",
   "pygments_lexer": "ipython3",
   "version": "3.13.1"
  }
 },
 "nbformat": 4,
 "nbformat_minor": 2
}
