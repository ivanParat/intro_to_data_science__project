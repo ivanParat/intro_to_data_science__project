{
 "cells": [
  {
   "cell_type": "markdown",
   "metadata": {},
   "source": [
    "Na temelju odabranih podataka iz popisa, te izbornih podataka, može se izračunati sličnost između gradova/općina"
   ]
  },
  {
   "cell_type": "code",
   "execution_count": 1,
   "metadata": {},
   "outputs": [],
   "source": [
    "import pandas as pd\n",
    "import geopandas as gpd"
   ]
  },
  {
   "cell_type": "markdown",
   "metadata": {},
   "source": [
    "Učitavanje geopodataka"
   ]
  },
  {
   "cell_type": "code",
   "execution_count": 2,
   "metadata": {},
   "outputs": [],
   "source": [
    "gdf = gpd.read_file(\"data/administrative_units/gradovi_opcine_zupanije.geojson\")\n",
    "gdf['Županija'] = gdf['text_right'].str.strip()\n",
    "gdf['Grad/općina'] = gdf['text_left'].str.strip()"
   ]
  },
  {
   "cell_type": "code",
   "execution_count": 3,
   "metadata": {},
   "outputs": [],
   "source": [
    "def create_static_map(df, color_column_name):\n",
    "    plot = df.plot(\n",
    "        column=color_column_name, \n",
    "        legend=True, \n",
    "        figsize=(15, 15)\n",
    "    )\n",
    "    plot.set_title(color_column_name, fontsize=14)\n",
    "\n",
    "    # Filter out rows with missing geometries\n",
    "    df = df.dropna(subset=['geometry'])"
   ]
  },
  {
   "cell_type": "markdown",
   "metadata": {},
   "source": [
    "Učitavanje onih podataka iz popisa koje želimo iskoristiti u analizi"
   ]
  },
  {
   "cell_type": "code",
   "execution_count": null,
   "metadata": {},
   "outputs": [],
   "source": [
    "census_percentages = []\n",
    "\n",
    "bračni_status = pd.read_csv(\"data/census/bračni_status.csv\")\n",
    "bračni_status = bračni_status[bračni_status['Starost'] == 'Ukupno']\n",
    "bračni_status_percentages = bračni_status.columns[16:26]\n",
    "bračni_status_percentages =list(bračni_status_percentages)\n",
    "census_percentages += bračni_status_percentages\n",
    "\n",
    "br_djece = pd.read_csv(\"data/census/broj_živorođene_djece.csv\")\n",
    "br_djece = br_djece[br_djece['Starost'] == 'Ukupno']\n",
    "br_djece_percentages = br_djece.columns[[17] + list(range(19, 30))]\n",
    "br_djece_percentages =list(br_djece_percentages)\n",
    "census_percentages += br_djece_percentages\n",
    "\n",
    "dob = pd.read_csv(\"data/census/dob.csv\")\n",
    "dob = dob[dob['Spol'] == 'sv.']\n",
    "dob_percentages = dob.columns[[14] + [18] +[23] + [25]]\n",
    "dob_percentages =list(dob_percentages)\n",
    "census_percentages += dob_percentages\n",
    "\n",
    "ekonomska_aktivnost = pd.read_csv(\"data/census/ekonomska_aktivnost.csv\")\n",
    "ekonomska_aktivnost = ekonomska_aktivnost[(ekonomska_aktivnost['Spol'] == 'sv.') & (ekonomska_aktivnost['Starost'] == 'Ukupno')]\n",
    "ekonomska_aktivnost_percentages = ekonomska_aktivnost.columns[[16] + [17] + list(range(19,25))]\n",
    "ekonomska_aktivnost_percentages =list(ekonomska_aktivnost_percentages)\n",
    "census_percentages += ekonomska_aktivnost_percentages\n",
    "\n",
    "mjesto_rođenja = pd.read_csv(\"data/census/mjesto_rođenja_stanovanja.csv\")\n",
    "mjesto_rođenja = mjesto_rođenja[mjesto_rođenja['Spol'] == 'sv.']\n",
    "mjesto_rođenja['Rođeni u gradu/općini stanovanja %'] = (mjesto_rođenja['U mjestu stanovanja'] + mjesto_rođenja['U drugom naselju istoga grada/općine2)']) / mjesto_rođenja['Ukupan broj stanovnika'] * 100\n",
    "mjesto_rođenja_percentages = [col for col in mjesto_rođenja.columns[list(range(22,25)) + list(range(26, 33))] if col.endswith('%')]\n",
    "mjesto_rođenja_percentages =list(mjesto_rođenja_percentages)\n",
    "mjesto_rođenja_percentages.append('Rođeni u gradu/općini stanovanja %')\n",
    "census_percentages += mjesto_rođenja_percentages\n",
    "\n",
    "narodnost = pd.read_csv(\"data/census/narodnost.csv\")\n",
    "narodnost_percentages = [col for col in narodnost.columns[5:62] if col.endswith('%')]\n",
    "narodnost_percentages =list(narodnost_percentages)\n",
    "census_percentages += narodnost_percentages\n",
    "\n",
    "područje_djelatnosti = pd.read_csv(\"data/census/područje_djelatnosti.csv\")\n",
    "područje_djelatnosti = područje_djelatnosti[(područje_djelatnosti['Starost'] == 'Ukupno') & (područje_djelatnosti['Spol'] == 'sv.')]\n",
    "područje_djelatnosti_percentages = [col for col in područje_djelatnosti.columns if col.endswith('%')]\n",
    "područje_djelatnosti_percentages =list(područje_djelatnosti_percentages)\n",
    "census_percentages += područje_djelatnosti_percentages\n",
    "\n",
    "položaj_u_zaposlenju = pd.read_csv(\"data/census/položaj_u_zaposlenju.csv\")\n",
    "položaj_u_zaposlenju = položaj_u_zaposlenju[(položaj_u_zaposlenju['Spol'] == 'sv.') & (položaj_u_zaposlenju['Starost'] == 'Ukupno')]\n",
    "položaj_u_zaposlenju_percentages = položaj_u_zaposlenju.columns[[12] + list(range(14,19))]\n",
    "položaj_u_zaposlenju_percentages =list(položaj_u_zaposlenju_percentages)\n",
    "census_percentages += položaj_u_zaposlenju_percentages\n",
    "\n",
    "vjera = pd.read_csv(\"data/census/vjera.csv\")\n",
    "vjera_percentages = [col for col in vjera.columns[5:28] if col.endswith('%')]\n",
    "vjera_percentages =list(vjera_percentages)\n",
    "census_percentages += vjera_percentages\n",
    "\n",
    "završena_škola = pd.read_csv(\"data/census/završena_škola.csv\")\n",
    "završena_škola = završena_škola[(završena_škola['Spol'] == 'sv.') & (završena_škola['Starost'] == 'Ukupno')]\n",
    "završena_škola_percentages = završena_škola.columns[list(range(15,20)) + list(range(21,25))]\n",
    "završena_škola_percentages =list(završena_škola_percentages)\n",
    "census_percentages += završena_škola_percentages\n",
    "\n",
    "census_df = (\n",
    "    bračni_status\n",
    "    .merge(br_djece, on=['Županija', 'Grad/općina'], how='inner', suffixes=('bračni_status', '_br_djece'))\n",
    "    .merge(dob, on=['Županija', 'Grad/općina'], how='inner', suffixes=('', '_dob'))\n",
    "    .merge(ekonomska_aktivnost, on=['Županija', 'Grad/općina'], how='inner', suffixes=('', '_ekonomska_aktivnost'))\n",
    "    .merge(mjesto_rođenja, on=['Županija', 'Grad/općina'], how='inner', suffixes=('', '_mjesto_rođenja'))\n",
    "    .merge(narodnost, on=['Županija', 'Grad/općina'], how='inner', suffixes=('', '_narodnost'))\n",
    "    .merge(područje_djelatnosti, on=['Županija', 'Grad/općina'], how='inner', suffixes=('', '_područje_djelatnosti'))\n",
    "    .merge(položaj_u_zaposlenju, on=['Županija', 'Grad/općina'], how='inner', suffixes=('', '_položaj_u_zaposlenju'))\n",
    "    .merge(vjera, on=['Županija', 'Grad/općina'], how='inner', suffixes=('', '_vjera'))\n",
    "    .merge(završena_škola, on=['Županija', 'Grad/općina'], how='inner', suffixes=('', '_završena_škola'))\n",
    ")\n",
    "df = gdf.merge(census_df, on=['Županija', 'Grad/općina'], how='inner')\n",
    "\n",
    "print(census_percentages)"
   ]
  },
  {
   "cell_type": "markdown",
   "metadata": {},
   "source": [
    "Učitavanje izbornih rezultata"
   ]
  },
  {
   "cell_type": "code",
   "execution_count": null,
   "metadata": {},
   "outputs": [],
   "source": [
    "election_results = pd.read_csv(\"data/election_results/kombinirani_rezultati.csv\")\n",
    "\n",
    "party_percentages = election_results.columns[34:61] \n",
    "party_percentages = list(party_percentages)\n",
    "print(party_percentages)\n",
    "\n",
    "election_results['Županija'] = election_results['Županija'].str.strip()  # Strip any extra spaces\n",
    "election_results['Grad/općina'] = election_results['Grad/općina/država'].str.strip()\n",
    "\n",
    "df = gdf.merge(election_results, on=['Županija', 'Grad/općina'], how='inner').merge(census_df, on=['Županija', 'Grad/općina'], how='inner')\n",
    "features = party_percentages + census_percentages\n",
    "print(features)"
   ]
  },
  {
   "cell_type": "markdown",
   "metadata": {},
   "source": [
    "Izračun indeksa sličnosti"
   ]
  },
  {
   "cell_type": "code",
   "execution_count": null,
   "metadata": {},
   "outputs": [],
   "source": [
    "import numpy as np\n",
    "from sklearn.preprocessing import MinMaxScaler\n",
    "\n",
    "data = df[features]\n",
    "scaler = MinMaxScaler()\n",
    "scaled_data = scaler.fit_transform(data)\n",
    "similarity_matrix = np.corrcoef(scaled_data)\n",
    "\n",
    "selected_row_index = df[df['Grad/općina'] == 'SPLIT'].index[0]  # Get the index of the matching row\n",
    "similarities = similarity_matrix[selected_row_index]\n",
    "\n",
    "# Add the similarities to the DataFrame for easy interpretation\n",
    "df['Similarity'] = similarities\n",
    "\n",
    "create_static_map(df, 'Similarity')"
   ]
  }
 ],
 "metadata": {
  "kernelspec": {
   "display_name": "venv",
   "language": "python",
   "name": "python3"
  },
  "language_info": {
   "codemirror_mode": {
    "name": "ipython",
    "version": 3
   },
   "file_extension": ".py",
   "mimetype": "text/x-python",
   "name": "python",
   "nbconvert_exporter": "python",
   "pygments_lexer": "ipython3",
   "version": "3.12.3"
  }
 },
 "nbformat": 4,
 "nbformat_minor": 2
}
