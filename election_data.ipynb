{
 "cells": [
  {
   "cell_type": "code",
   "execution_count": null,
   "metadata": {},
   "outputs": [],
   "source": [
    "%pip install pandas"
   ]
  },
  {
   "cell_type": "code",
   "execution_count": null,
   "metadata": {},
   "outputs": [],
   "source": [
    "%pip install openpyxl"
   ]
  },
  {
   "cell_type": "markdown",
   "metadata": {},
   "source": [
    "Probajmo pročitati xlsx file sa rezultatima izbora u prvoj izbornoj jedinici (csv file ima neke čudne znakove)."
   ]
  },
  {
   "cell_type": "code",
   "execution_count": null,
   "metadata": {},
   "outputs": [],
   "source": [
    "import pandas as pd\n",
    "df = pd.read_excel('data/election_results/02_01.xlsx', sheet_name='rezultati')\n",
    "print(df.head())"
   ]
  },
  {
   "cell_type": "markdown",
   "metadata": {},
   "source": [
    "Sada ćemo učitati rezultate svih izbornih jedinica u niz data frameova i pokupiti imena listi/stranaka. Savjet: odaberite \"scrollable element\" pri dnu ispisa kako biste mogli vidjeti sve stranke. Neke se ponavljaju jer imaju različite partnere u različitim izbornim jedinicama. To ćemo riješiti kasnije."
   ]
  },
  {
   "cell_type": "code",
   "execution_count": null,
   "metadata": {},
   "outputs": [],
   "source": [
    "dataframes = []\n",
    "parties = []\n",
    "\n",
    "file_names = [\n",
    "    '02_01.xlsx', '02_02.xlsx', '02_03.xlsx', '02_04.xlsx', \n",
    "    '02_05.xlsx', '02_06.xlsx', '02_07.xlsx', \n",
    "    '02_08.xlsx', '02_09.xlsx', '02_10.xlsx'\n",
    "]\n",
    "\n",
    "for file_name in file_names:\n",
    "    df = pd.read_excel(f'data/election_results/{file_name}', sheet_name='rezultati')\n",
    "\n",
    "    #na svakom 15. mjestu, počinjući od indeksa 15, nalazi se ime liste/stranke jer trebaju imati 14 kandidata, pošto svaka izborna jedinica nosi 14 mandata\n",
    "    for i in range(15, len(df.columns), 15):\n",
    "      column_name = df.columns[i]\n",
    "      if column_name not in parties:\n",
    "          parties.append(column_name)\n",
    "          \n",
    "    dataframes.append(df)\n",
    "\n",
    "#liste/stranke\n",
    "for party in parties:\n",
    "   print(party)\n",
    "\n",
    "#data frame rezultata prve izborne jedinice\n",
    "print(dataframes[0].head())"
   ]
  },
  {
   "cell_type": "markdown",
   "metadata": {},
   "source": [
    "Sada ćemo eliminirati one stupce koji nam ne trebaju (to su primarno preferencijalni glasovi) - odnosno zadržat ćemo stupce koji nam trebaju."
   ]
  },
  {
   "cell_type": "code",
   "execution_count": null,
   "metadata": {},
   "outputs": [],
   "source": [
    "columns_to_keep = ['Županija', 'Grad/općina/država', 'Rbr BM', 'Naziv BM', 'Lokacija BM', 'Adresa BM', 'Ukupno birača', 'Glasovalo birača', 'Glasovalo birača (po listićima)', 'Važeći listići', 'Nevažeći listići']\n",
    "columns_to_keep = columns_to_keep + parties\n",
    "for i in range(len(dataframes)):\n",
    "    #sve izborne jedinice nemaju iste liste/stranke - pa se inače javlja key error. Zato moramo dodati iduću liniju - radimo presjek između niza 'columns to keep' i stupaca dataframea dataframes[i]\n",
    "    valid_columns = [col for col in columns_to_keep if col in dataframes[i].columns]\n",
    "    dataframes[i] = dataframes[i][valid_columns]\n",
    "    \n",
    "print(dataframes[0].head())"
   ]
  },
  {
   "cell_type": "markdown",
   "metadata": {},
   "source": [
    "Kombiniramo sve data frameove u jedan."
   ]
  },
  {
   "cell_type": "code",
   "execution_count": null,
   "metadata": {},
   "outputs": [],
   "source": [
    "df = pd.concat(dataframes, ignore_index=True)\n",
    "print(df.head())"
   ]
  },
  {
   "cell_type": "markdown",
   "metadata": {},
   "source": [
    "Možemo zapisati to u csv file."
   ]
  },
  {
   "cell_type": "code",
   "execution_count": null,
   "metadata": {},
   "outputs": [],
   "source": [
    "df.to_csv(\"data/election_results/kombinirani_rezultati.csv\", index=False)"
   ]
  },
  {
   "cell_type": "markdown",
   "metadata": {},
   "source": [
    "Sada ćemo grupirati rezultate po gradu/općini. Dosada su rezultati bili po biračkom mjestu. Također ćemo iz data framea izbaciti stupce s podatcima o biračkim mjestima."
   ]
  },
  {
   "cell_type": "code",
   "execution_count": null,
   "metadata": {},
   "outputs": [],
   "source": [
    "df = df.drop(columns=['Rbr BM', 'Naziv BM', 'Lokacija BM', 'Adresa BM'])\n",
    "df = df.pivot_table(index=['Županija', 'Grad/općina/država'], aggfunc='sum').reset_index()\n",
    "\n",
    "print(df.head())\n",
    "df.to_csv(\"data/election_results/kombinirani_rezultati.csv\", index=False)"
   ]
  },
  {
   "cell_type": "markdown",
   "metadata": {},
   "source": [
    "Grad Zagreb je podijeljen u 3 izborne jednice, pa ćemo spojiti ta 3 retka u jedan."
   ]
  },
  {
   "cell_type": "code",
   "execution_count": null,
   "metadata": {},
   "outputs": [],
   "source": [
    "zagreb_rows = df[df['Županija'] == 'GRAD ZAGREB']\n",
    "numerical_cols = zagreb_rows.select_dtypes(include='number').columns\n",
    "zagreb_combined = zagreb_rows.groupby('Županija', as_index=False)[numerical_cols].sum()\n",
    "zagreb_combined['Grad/općina/država'] = 'ZAGREB'\n",
    "\n",
    "other_rows = df[df['Županija'] != 'GRAD ZAGREB']\n",
    "df = pd.concat([zagreb_combined, other_rows], ignore_index=True)\n",
    "df.to_csv(\"data/election_results/kombinirani_rezultati.csv\", index=False)"
   ]
  },
  {
   "cell_type": "markdown",
   "metadata": {},
   "source": [
    "Promijeniti ćemo redoslijed stupaca jer se poremetio tijekom ovih raznih operacija."
   ]
  },
  {
   "cell_type": "code",
   "execution_count": null,
   "metadata": {},
   "outputs": [],
   "source": [
    "columns = df.columns.to_list()\n",
    "columns.insert(1, columns.pop(columns.index('Grad/općina/država')))\n",
    "columns.insert(2, columns.pop(columns.index('Ukupno birača')))\n",
    "columns.insert(3, columns.pop(columns.index('Glasovalo birača')))\n",
    "columns.insert(4, columns.pop(columns.index('Glasovalo birača (po listićima)')))\n",
    "columns.insert(5, columns.pop(columns.index('Važeći listići')))\n",
    "columns.insert(5, columns.pop(columns.index('Nevažeći listići')))\n",
    "df = df[columns]\n",
    "df.to_csv(\"data/election_results/kombinirani_rezultati.csv\", index=False)"
   ]
  },
  {
   "cell_type": "markdown",
   "metadata": {},
   "source": [
    "Već smo vidjeli da se neke stranke pojavljuju više puta. Zato ćemo zbrojiti određene stupce. Također ćemo preimenovati neke stupce radi jednostavnosti - liste ćemo nazvati po najvećoj ili nekoliko najvećih stranaka od svih u listi. "
   ]
  },
  {
   "cell_type": "code",
   "execution_count": null,
   "metadata": {},
   "outputs": [],
   "source": [
    "for party in sorted(parties):\n",
    "  print(party)"
   ]
  },
  {
   "cell_type": "code",
   "execution_count": null,
   "metadata": {},
   "outputs": [],
   "source": [
    "df['AGRARNA STRANKA, AKCIJA ZA PROMJENE'] = df['AGRARNA STRANKA - POKRET ZA HRVATSKU POLJOPRIVREDU, AKCIJA ZA PROMJENE'] + df['AKCIJA ZA PROMJENE, AGRARNA STRANKA - POKRET ZA HRVATSKU POLJOPRIVREDU']\n",
    "\n",
    "df = df.drop(columns=['AGRARNA STRANKA - POKRET ZA HRVATSKU POLJOPRIVREDU, AKCIJA ZA PROMJENE', 'AKCIJA ZA PROMJENE, AGRARNA STRANKA - POKRET ZA HRVATSKU POLJOPRIVREDU'])\n",
    "\n",
    "df['DOMOVINSKI POKRET'] = df['DOMOVINSKI POKRET - DP, PRAVO I PRAVDA'] + df['DOMOVINSKI POKRET - DP, PRAVO I PRAVDA, BLOK ZA HRVATSKU - BLOK, AGRAMERI - NEZAVISNA LISTA'] + df['DOMOVINSKI POKRET - DP, PRAVO I PRAVDA, DEMOKRATSKI HSS - DHSS, ZELENA LISTA'] + df['DOMOVINSKI POKRET - DP, PRAVO I PRAVDA, DEMOKRATSKI HSS - DHSS, ZELENA LISTA, AGRAMERI - NEZAVISNA LISTA'] + df['DOMOVINSKI POKRET - DP, PRAVO I PRAVDA, NEZAVISNI, DEMOKRATSKI HSS - DHSS, ZELENA LISTA']\n",
    "\n",
    "df = df.drop(columns=['DOMOVINSKI POKRET - DP, PRAVO I PRAVDA', 'DOMOVINSKI POKRET - DP, PRAVO I PRAVDA, BLOK ZA HRVATSKU - BLOK, AGRAMERI - NEZAVISNA LISTA', 'DOMOVINSKI POKRET - DP, PRAVO I PRAVDA, DEMOKRATSKI HSS - DHSS, ZELENA LISTA', 'DOMOVINSKI POKRET - DP, PRAVO I PRAVDA, DEMOKRATSKI HSS - DHSS, ZELENA LISTA, AGRAMERI - NEZAVISNA LISTA', 'DOMOVINSKI POKRET - DP, PRAVO I PRAVDA, NEZAVISNI, DEMOKRATSKI HSS - DHSS, ZELENA LISTA'])\n",
    "\n",
    "df['SOCIJALDEMOKRATI, REFORMISTI, IDS, PGS'] = df['ISTARSKI DEMOKRATSKI SABOR - IDS, PRIMORSKO GORANSKI SAVEZ - PGS, UNIJA KVARNERA - UNIJA, ISTARSKA STRANKA UMIROVLJENIKA - PARTITO ISTRIANO DEI PENSIONATI - ISU - PIP, SOCIJALDEMOKRATI, NARODNA STRANKA - REFORMISTI - REFORMISTI, DEMOKRATI, HRVATSKI LABURISTI - STRANKA RADA - LABURISTI'] + df['NARODNA STRANKA - REFORMISTI - REFORMISTI, PRIMORSKO GORANSKI SAVEZ - PGS, ISTARSKI DEMOKRATSKI SABOR - IDS, UNIJA KVARNERA - UNIJA, STRANKA HRVATSKIH UMIROVLJENIKA - UMIROVLJENICI - UMIROVLJENICI'] + df['SOCIJALDEMOKRATI, HRVATSKI LABURISTI - STRANKA RADA - LABURISTI, DEMOKRATI'] + df['SOCIJALDEMOKRATI, ISTARSKI DEMOKRATSKI SABOR - IDS, PRIMORSKO GORANSKI SAVEZ - PGS, HRVATSKI LABURISTI - STRANKA RADA - LABURISTI, DEMOKRATI']\n",
    "\n",
    "df = df.drop(columns=['ISTARSKI DEMOKRATSKI SABOR - IDS, PRIMORSKO GORANSKI SAVEZ - PGS, UNIJA KVARNERA - UNIJA, ISTARSKA STRANKA UMIROVLJENIKA - PARTITO ISTRIANO DEI PENSIONATI - ISU - PIP, SOCIJALDEMOKRATI, NARODNA STRANKA - REFORMISTI - REFORMISTI, DEMOKRATI, HRVATSKI LABURISTI - STRANKA RADA - LABURISTI', 'NARODNA STRANKA - REFORMISTI - REFORMISTI, PRIMORSKO GORANSKI SAVEZ - PGS, ISTARSKI DEMOKRATSKI SABOR - IDS, UNIJA KVARNERA - UNIJA, STRANKA HRVATSKIH UMIROVLJENIKA - UMIROVLJENICI - UMIROVLJENICI', 'SOCIJALDEMOKRATI, HRVATSKI LABURISTI - STRANKA RADA - LABURISTI, DEMOKRATI', 'SOCIJALDEMOKRATI, ISTARSKI DEMOKRATSKI SABOR - IDS, PRIMORSKO GORANSKI SAVEZ - PGS, HRVATSKI LABURISTI - STRANKA RADA - LABURISTI, DEMOKRATI'])\n",
    "\n",
    "df['MOŽEMO'] = df['MOŽEMO! - POLITIČKA PLATFORMA'] + df['MOŽEMO! - POLITIČKA PLATFORMA, HOĆEMO PRAVEDNO'] + df['MOŽEMO! - POLITIČKA PLATFORMA, SRĐ JE GRAD']\n",
    "\n",
    "df = df.drop(columns=['MOŽEMO! - POLITIČKA PLATFORMA', 'MOŽEMO! - POLITIČKA PLATFORMA, HOĆEMO PRAVEDNO', 'MOŽEMO! - POLITIČKA PLATFORMA, SRĐ JE GRAD'])\n",
    "\n",
    "df['SDP'] = df['SOCIJALDEMOKRATSKA PARTIJA HRVATSKE - SDP, CENTAR, HRVATSKA SELJAČKA STRANKA - HSS, \"DALIJA OREŠKOVIĆ I LJUDI S IMENOM I PREZIMENOM\" - \"DO i SIP\", GRAĐANSKO-LIBERALNI SAVEZ - GLAS'] + df['SOCIJALDEMOKRATSKA PARTIJA HRVATSKE - SDP, CENTAR, HRVATSKA SELJAČKA STRANKA - HSS, \"DALIJA OREŠKOVIĆ I LJUDI S IMENOM I PREZIMENOM\" - \"DO i SIP\", NARODNA STRANKA - REFORMISTI - REFORMISTI, GRAĐANSKO-LIBERALNI SAVEZ - GLAS']\n",
    "\n",
    "df = df.drop(columns=['SOCIJALDEMOKRATSKA PARTIJA HRVATSKE - SDP, CENTAR, HRVATSKA SELJAČKA STRANKA - HSS, \"DALIJA OREŠKOVIĆ I LJUDI S IMENOM I PREZIMENOM\" - \"DO i SIP\", GRAĐANSKO-LIBERALNI SAVEZ - GLAS', 'SOCIJALDEMOKRATSKA PARTIJA HRVATSKE - SDP, CENTAR, HRVATSKA SELJAČKA STRANKA - HSS, \"DALIJA OREŠKOVIĆ I LJUDI S IMENOM I PREZIMENOM\" - \"DO i SIP\", NARODNA STRANKA - REFORMISTI - REFORMISTI, GRAĐANSKO-LIBERALNI SAVEZ - GLAS'])"
   ]
  },
  {
   "cell_type": "code",
   "execution_count": null,
   "metadata": {},
   "outputs": [],
   "source": [
    "# column_replacement_dict = {\n",
    "#     'old_col1': 'new_col1',\n",
    "#     'old_col2': 'new_col2',\n",
    "#     'old_col3': 'new_col3'\n",
    "# }\n",
    "column_replacement_dict = {\n",
    "    'AUTOHTONA - HRVATSKA STRANKA PRAVA - DRAŽEN KELEMINEC - A - HSP - Dražen Keleminec': 'A-HSP',\n",
    "    'FOKUS, REPUBLIKA': 'FOKUS',\n",
    "    'HRVATSKA DEMOKRATSKA ZAJEDNICA - HDZ, HRVATSKA SOCIJALNO - LIBERALNA STRANKA - HSLS, HRVATSKA DEMOKRŠĆANSKA STRANKA - HDS, HRVATSKA NARODNA STRANKA - LIBERALNI DEMOKRATI - HNS, HRVATSKA STRANKA UMIROVLJENIKA - HSU': 'HDZ',\n",
    "    'HRVATSKA STRANKA PRAVA - HSP, HRVATSKO BILO, HRVATSKA DEMOKRATSKA SELJAČKA STRANKA - HDSS': 'HSP',\n",
    "    'HRVATSKA STRANKA PRAVA DR. ANTE STARČEVIĆ': 'HSP AS',\n",
    "    'MOST, HRVATSKI SUVERENISTI, HRVATSKA KONZERVATIVNA STRANKA - HKS, NEZAVISNA LISTA MLADIH - NLM': 'MOST',\n",
    "    'UMIROVLJENICI ZAJEDNO - POLITIČKA PLATFORMA - UMIROVLJENICI ZAJEDNO, STRANKA UMIROVLJENIKA - SU, BLOK UMIROVLJENICI ZAJEDNO - BUZ, DEMOKRATSKA STRANKA UMIROVLJENIKA - DSU': 'UMIROVLJENICI ZAJEDNO'\n",
    "}\n",
    "df = df.rename(columns=column_replacement_dict)"
   ]
  },
  {
   "cell_type": "code",
   "execution_count": null,
   "metadata": {},
   "outputs": [],
   "source": [
    "df.to_csv(\"data/election_results/kombinirani_rezultati.csv\", index=False)"
   ]
  },
  {
   "cell_type": "markdown",
   "metadata": {},
   "source": [
    "Sada ćemo izračunati postotke za svaku stranku u svakoj općini."
   ]
  },
  {
   "cell_type": "code",
   "execution_count": null,
   "metadata": {},
   "outputs": [],
   "source": [
    "parties = []\n",
    "\n",
    "for i in range(7, 34):\n",
    "      column_name = df.columns[i]\n",
    "      parties.append(column_name)\n",
    "\n",
    "new_columns = {}\n",
    "for party in parties:\n",
    "      new_columns[f'{party} %'] = round((df[party] / df['Važeći listići']) * 100, 2)\n",
    "\n",
    "df = pd.concat([df, pd.DataFrame(new_columns)], axis=1)\n",
    "\n",
    "df.to_csv(\"data/election_results/kombinirani_rezultati.csv\", index=False)"
   ]
  }
 ],
 "metadata": {
  "kernelspec": {
   "display_name": "venv",
   "language": "python",
   "name": "python3"
  },
  "language_info": {
   "codemirror_mode": {
    "name": "ipython",
    "version": 3
   },
   "file_extension": ".py",
   "mimetype": "text/x-python",
   "name": "python",
   "nbconvert_exporter": "python",
   "pygments_lexer": "ipython3",
   "version": "3.12.3"
  }
 },
 "nbformat": 4,
 "nbformat_minor": 2
}
