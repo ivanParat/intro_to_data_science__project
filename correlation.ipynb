{
 "cells": [
  {
   "cell_type": "markdown",
   "metadata": {},
   "source": [
    "Prikazivanje ovisnosti između različitih varijabli iz popisa stanovništva i izbornih rezultata"
   ]
  },
  {
   "cell_type": "code",
   "execution_count": null,
   "metadata": {},
   "outputs": [],
   "source": [
    "%pip install plotly nbformat\n",
    "#restart kernel after installing nbformat!"
   ]
  },
  {
   "cell_type": "code",
   "execution_count": 2,
   "metadata": {},
   "outputs": [],
   "source": [
    "import pandas as pd\n",
    "import plotly.express as px\n",
    "import numpy as np\n",
    "import plotly.graph_objects as go"
   ]
  },
  {
   "cell_type": "code",
   "execution_count": null,
   "metadata": {},
   "outputs": [],
   "source": [
    "election_results = pd.read_csv(\"data/election_results/kombinirani_rezultati.csv\")\n",
    "\n",
    "party_percentages = election_results.columns[34:61] \n",
    "party_percentages = list(party_percentages)\n",
    "print(party_percentages)\n",
    "\n",
    "#uzet ćemo samo stranke s više od 1% na nacionalnoj razini, da smanjimo količinu plotova\n",
    "party_percentages = ['HDZ %', 'SDP %', 'DOMOVINSKI POKRET %', 'MOŽEMO %', 'MOST %', 'FOKUS %', 'SOCIJALDEMOKRATI, REFORMISTI, IDS, PGS %', 'UMIROVLJENICI ZAJEDNO %', 'ODLUČNOST I PRAVEDNOST - OIP %', 'NEZAVISNA PLATFORMA SJEVERA - NPS %']\n",
    "print(party_percentages)"
   ]
  },
  {
   "cell_type": "code",
   "execution_count": 16,
   "metadata": {},
   "outputs": [],
   "source": [
    "def correlation(df, x, y):\n",
    "    correlation = df[x].corr(df[y])\n",
    "    print(f\"Correlation between {x} and {y}: {correlation:.5f}\")\n",
    "\n",
    "    if 'Ukupno' in df.columns:\n",
    "        population_column = 'Ukupno'\n",
    "    elif 'Ukupan broj stanovnika' in df.columns:\n",
    "        population_column = 'Ukupan broj stanovnika'\n",
    "    weights = df[population_column]\n",
    "        \n",
    "    x_mean_w = np.average(df[x], weights=weights)\n",
    "    y_mean_w = np.average(df[y], weights=weights)\n",
    "\n",
    "    # Weighted covariance\n",
    "    cov_xy = np.sum(weights * (df[x] - x_mean_w) * (df[y] - y_mean_w)) / np.sum(weights)\n",
    "\n",
    "    # Weighted variances\n",
    "    var_x = np.sum(weights * (df[x] - x_mean_w) ** 2) / np.sum(weights)\n",
    "    var_y = np.sum(weights * (df[y] - y_mean_w) ** 2) / np.sum(weights)\n",
    "\n",
    "    # Weighted correlation\n",
    "    weighted_corr = cov_xy / np.sqrt(var_x * var_y)\n",
    "    print(f\"Population-Weighted Correlation between {x} and {y}: {weighted_corr:.5f}\")\n",
    "\n",
    "def assign_region(row):\n",
    "    if row['Grad/općina'] in ['SENJ', 'KARLOBAG']:\n",
    "        return 'ISTRA I KVARNER'\n",
    "    elif row['Grad/općina'] == 'NOVALJA':\n",
    "        return 'DALMACIJA'\n",
    "    elif row['Grad/općina'] == 'GRAČAC':\n",
    "        return 'SREDIŠNJA HRVATSKA'\n",
    "    elif row['Županija'] in ['OSJEČKO-BARANJSKA ŽUPANIJA', 'VUKOVARSKO-SRIJEMSKA ŽUPANIJA', 'BRODSKO-POSAVSKA ŽUPANIJA', 'POŽEŠKO-SLAVONSKA ŽUPANIJA', 'VIROVITIČKO-PODRAVSKA ŽUPANIJA']:\n",
    "        return 'SLAVONIJA'\n",
    "    elif row['Županija'] in ['KRAPINSKO-ZAGORSKA ŽUPANIJA', 'VARAŽDINSKA ŽUPANIJA', 'MEĐIMURSKA ŽUPANIJA', 'KOPRIVNIČKO-KRIŽEVAČKA ŽUPANIJA']:\n",
    "        return 'SJEVERNA HRVATSKA'\n",
    "    elif row['Županija'] in ['ZAGREBAČKA ŽUPANIJA', 'BJELOVARSKO-BILOGORSKA ŽUPANIJA', 'SISAČKO-MOSLAVAČKA ŽUPANIJA', 'KARLOVAČKA ŽUPANIJA', 'LIČKO-SENJSKA ŽUPANIJA']:\n",
    "        return 'SREDIŠNJA HRVATSKA'\n",
    "    elif row['Županija'] == 'GRAD ZAGREB':\n",
    "        return 'ZAGREB'\n",
    "    elif row['Županija'] in ['ISTARSKA ŽUPANIJA', 'PRIMORSKO-GORANSKA ŽUPANIJA']:\n",
    "        return 'ISTRA I KVARNER'\n",
    "    elif row['Županija'] in ['ZADARSKA ŽUPANIJA', 'ŠIBENSKO-KNINSKA ŽUPANIJA', 'SPLITSKO-DALMATINSKA ŽUPANIJA', 'DUBROVAČKO-NERETVANSKA ŽUPANIJA']:\n",
    "        return 'DALMACIJA'\n",
    "    else:\n",
    "        return 'UNKNOWN'\n",
    "\n",
    "def create_plot(df, x ,y):\n",
    "    if 'Ukupno' in df.columns:\n",
    "        population_column = 'Ukupno'\n",
    "    elif 'Ukupan broj stanovnika' in df.columns:\n",
    "        population_column = 'Ukupan broj stanovnika'\n",
    "\n",
    "    # Create first layer: Default scatter\n",
    "    fig = go.Figure()\n",
    "\n",
    "    # Default scatter layer \n",
    "    fig.add_trace(go.Scatter(\n",
    "        x=df[x],\n",
    "        y=df[y],\n",
    "        mode='markers',\n",
    "        marker=dict(size=6, color='navy'),\n",
    "        name='Default Layer',\n",
    "        hovertemplate=(\n",
    "            f\"<b>{x}\"\":</b> %{x}<br>\"\n",
    "            f\"<b>{y}\"\":</b> %{y}<br>\"\n",
    "            \"<b>Grad/općina:</b> %{customdata[0]}<br>\"\n",
    "            \"<b>Županija:</b> %{customdata[1]}<br>\"\n",
    "        ),\n",
    "        customdata=df[['Grad/općina', 'Županija']].to_numpy()  \n",
    "    ))\n",
    "\n",
    "    # Second layer: Scatter with coloring by population\n",
    "    fig.add_trace(go.Scatter(\n",
    "        x=df[x],\n",
    "        y=df[y],\n",
    "        mode='markers',\n",
    "        marker=dict(size=6, color=np.log(df[population_column]), colorscale='Viridis'),\n",
    "        name='Population Layer',\n",
    "        hovertemplate=(\n",
    "            f\"<b>{x}\"\":</b> %{x}<br>\"\n",
    "            f\"<b>{y}\"\":</b> %{y}<br>\"\n",
    "            \"<b>Grad/općina:</b> %{customdata[0]}<br>\"\n",
    "            \"<b>Županija:</b> %{customdata[1]}<br>\"\n",
    "            f\"<b>{population_column}\"\":</b> %{customdata[2]}<br>\"\n",
    "        ),\n",
    "        customdata=df[['Grad/općina', 'Županija', population_column]].to_numpy(),  \n",
    "        visible=False  # Initially hidden\n",
    "    ))\n",
    "\n",
    "    # Region layer\n",
    "    df['Regija'] = df.apply(assign_region, axis=1)\n",
    "    color_map = {\n",
    "        'SLAVONIJA': 'red',\n",
    "        'SJEVERNA HRVATSKA': 'orange',\n",
    "        'SREDIŠNJA HRVATSKA': 'green',\n",
    "        'ZAGREB': 'magenta',\n",
    "        'ISTRA I KVARNER': 'teal',\n",
    "        'DALMACIJA': 'darkblue',\n",
    "        'UNKNOWN': 'gray'\n",
    "    }\n",
    "    df['Color'] = df['Regija'].map(color_map)\n",
    "\n",
    "    fig.add_trace(go.Scatter(\n",
    "        x=df[x],\n",
    "        y=df[y],\n",
    "        mode='markers',\n",
    "        marker=dict(size=6, color=df['Color']),\n",
    "        name='Region Layer',\n",
    "        hovertemplate=(\n",
    "            f\"<b>{x}\"\":</b> %{x}<br>\"\n",
    "            f\"<b>{y}\"\":</b> %{y}<br>\"\n",
    "            \"<b>Grad/općina:</b> %{customdata[0]}<br>\"\n",
    "            \"<b>Županija:</b> %{customdata[1]}<br>\"\n",
    "            \"<b>Regija:</b> %{customdata[2]}<br>\"\n",
    "        ),\n",
    "        customdata=df[['Grad/općina', 'Županija', 'Regija']].to_numpy(),\n",
    "        visible=False  # Initially hidden\n",
    "    ))\n",
    "\n",
    "    # Add buttons to toggle between layers\n",
    "    fig.update_layout(\n",
    "        updatemenus=[\n",
    "            dict(\n",
    "                type=\"buttons\",\n",
    "                direction=\"right\",\n",
    "                x=0.5,\n",
    "                xanchor=\"center\",\n",
    "                y=1.15,\n",
    "                buttons=[\n",
    "                    dict(label=\"Default Layer\", method=\"update\", args=[{\"visible\": [True, False, False]}]),\n",
    "                    dict(label=\"Population Layer\", method=\"update\", args=[{\"visible\": [False, True, False]}]),\n",
    "                    dict(label=\"Region Layer\", method=\"update\", args=[{\"visible\": [False, False, True]}]),\n",
    "                ],\n",
    "            )\n",
    "        ],\n",
    "        xaxis_title=x,\n",
    "        yaxis_title=y,\n",
    "    )\n",
    "\n",
    "    fig.update_layout(\n",
    "        margin=dict(l=40, r=40, t=60, b=40), \n",
    "        height=600,  \n",
    "        width=800  \n",
    "    )\n",
    "\n",
    "    fig.show()"
   ]
  },
  {
   "cell_type": "markdown",
   "metadata": {},
   "source": [
    "BRAČNI STATUS"
   ]
  },
  {
   "cell_type": "code",
   "execution_count": null,
   "metadata": {},
   "outputs": [],
   "source": [
    "census_df = pd.read_csv(\"data/census/bračni_status.csv\")\n",
    "census_percentages = census_df.columns[16:26]\n",
    "census_percentages =list(census_percentages)\n",
    "print(census_percentages)"
   ]
  },
  {
   "cell_type": "code",
   "execution_count": null,
   "metadata": {},
   "outputs": [],
   "source": [
    "df = pd.merge(election_results, census_df, left_on=['Županija', 'Grad/općina/država'], right_on=['Županija', 'Grad/općina'], how='inner')\n",
    "df = df[df['Starost'] == 'Ukupno']\n",
    "\n",
    "for x in census_percentages:\n",
    "  for y in party_percentages:\n",
    "    correlation(df, x, y)\n",
    "    create_plot(df, x ,y)"
   ]
  },
  {
   "cell_type": "markdown",
   "metadata": {},
   "source": [
    "BROJ ŽIVOROĐENE DJECE"
   ]
  },
  {
   "cell_type": "code",
   "execution_count": null,
   "metadata": {},
   "outputs": [],
   "source": [
    "census_df = pd.read_csv(\"data/census/broj_živorođene_djece.csv\")\n",
    "census_percentages = census_df.columns[17:30]\n",
    "census_percentages =list(census_percentages)\n",
    "print(census_percentages)"
   ]
  },
  {
   "cell_type": "code",
   "execution_count": null,
   "metadata": {},
   "outputs": [],
   "source": [
    "df = pd.merge(election_results, census_df, left_on=['Županija', 'Grad/općina/država'], right_on=['Županija', 'Grad/općina'], how='inner')\n",
    "df = df[df['Starost'] == 'Ukupno']\n",
    "\n",
    "for x in census_percentages:\n",
    "  for y in party_percentages:\n",
    "    correlation(df, x, y)\n",
    "    create_plot(df, x ,y)"
   ]
  },
  {
   "cell_type": "markdown",
   "metadata": {},
   "source": [
    "DOB"
   ]
  },
  {
   "cell_type": "code",
   "execution_count": null,
   "metadata": {},
   "outputs": [],
   "source": [
    "census_df = pd.read_csv(\"data/census/dob.csv\")\n",
    "census_percentages = [col for i, col in enumerate(census_df.columns[14:27]) if i + 14 not in [21, 22]]\n",
    "census_percentages =list(census_percentages)\n",
    "print(census_percentages)"
   ]
  },
  {
   "cell_type": "code",
   "execution_count": null,
   "metadata": {},
   "outputs": [],
   "source": [
    "df = pd.merge(election_results, census_df, left_on=['Županija', 'Grad/općina/država'], right_on=['Županija', 'Grad/općina'], how='inner')\n",
    "df = df[df['Spol'] == 'sv.']\n",
    "\n",
    "for x in census_percentages:\n",
    "  for y in party_percentages:\n",
    "    correlation(df, x, y)\n",
    "    create_plot(df, x ,y)"
   ]
  },
  {
   "cell_type": "markdown",
   "metadata": {},
   "source": [
    "DRŽAVLJANSTVO"
   ]
  },
  {
   "cell_type": "code",
   "execution_count": null,
   "metadata": {},
   "outputs": [],
   "source": [
    "census_df = pd.read_csv(\"data/census/državljanstvo.csv\")\n",
    "census_percentages = [col for i, col in enumerate(census_df.columns[5:12]) if i + 5 in [5, 7, 9 ,11]]\n",
    "census_percentages =list(census_percentages)\n",
    "print(census_percentages)"
   ]
  },
  {
   "cell_type": "code",
   "execution_count": null,
   "metadata": {},
   "outputs": [],
   "source": [
    "df = pd.merge(election_results, census_df, left_on=['Županija', 'Grad/općina/država'], right_on=['Županija', 'Grad/općina'], how='inner')\n",
    "\n",
    "for x in census_percentages:\n",
    "  for y in party_percentages:\n",
    "    correlation(df, x, y)\n",
    "    create_plot(df, x ,y)"
   ]
  },
  {
   "cell_type": "markdown",
   "metadata": {},
   "source": [
    "EKONOMSKA AKTIVNOST"
   ]
  },
  {
   "cell_type": "code",
   "execution_count": null,
   "metadata": {},
   "outputs": [],
   "source": [
    "census_df = pd.read_csv(\"data/census/ekonomska_aktivnost.csv\")\n",
    "census_percentages = census_df.columns[15:25]\n",
    "census_percentages =list(census_percentages)\n",
    "print(census_percentages)"
   ]
  },
  {
   "cell_type": "code",
   "execution_count": null,
   "metadata": {},
   "outputs": [],
   "source": [
    "df = pd.merge(election_results, census_df, left_on=['Županija', 'Grad/općina/država'], right_on=['Županija', 'Grad/općina'], how='inner')\n",
    "df = df[(df['Starost'] == 'Ukupno') & (df['Spol'] == 'sv.')]\n",
    "\n",
    "for x in census_percentages:\n",
    "  for y in party_percentages:\n",
    "    correlation(df, x, y)\n",
    "    create_plot(df, x ,y)"
   ]
  },
  {
   "cell_type": "markdown",
   "metadata": {},
   "source": [
    "MATERINSKI JEZIK"
   ]
  },
  {
   "cell_type": "code",
   "execution_count": null,
   "metadata": {},
   "outputs": [],
   "source": [
    "census_df = pd.read_csv(\"data/census/materinski_jezik.csv\")\n",
    "census_percentages = [col for col in census_df.columns[5:56] if col.endswith('%')]\n",
    "census_percentages =list(census_percentages)\n",
    "print(census_percentages)"
   ]
  },
  {
   "cell_type": "code",
   "execution_count": null,
   "metadata": {},
   "outputs": [],
   "source": [
    "df = pd.merge(election_results, census_df, left_on=['Županija', 'Grad/općina/država'], right_on=['Županija', 'Grad/općina'], how='inner')\n",
    "\n",
    "for x in census_percentages:\n",
    "  for y in party_percentages:\n",
    "    correlation(df, x, y)\n",
    "    create_plot(df, x ,y)"
   ]
  },
  {
   "cell_type": "markdown",
   "metadata": {},
   "source": [
    "MIGRACIJSKA OBILJEŽJA"
   ]
  },
  {
   "cell_type": "code",
   "execution_count": null,
   "metadata": {},
   "outputs": [],
   "source": [
    "census_df = pd.read_csv(\"data/census/migracijska_obilježja.csv\")\n",
    "census_percentages = [col for col in census_df if col.endswith('%')]\n",
    "census_percentages =list(census_percentages)\n",
    "print(census_percentages)"
   ]
  },
  {
   "cell_type": "code",
   "execution_count": null,
   "metadata": {},
   "outputs": [],
   "source": [
    "df = pd.merge(election_results, census_df, left_on=['Županija', 'Grad/općina/država'], right_on=['Županija', 'Grad/općina'], how='inner')\n",
    "df = df[df['Spol'] == 'sv.']\n",
    "\n",
    "for x in census_percentages:\n",
    "  for y in party_percentages:\n",
    "    correlation(df, x, y)\n",
    "    create_plot(df, x ,y)"
   ]
  },
  {
   "cell_type": "markdown",
   "metadata": {},
   "source": [
    "MJETO ROĐENJA"
   ]
  },
  {
   "cell_type": "code",
   "execution_count": null,
   "metadata": {},
   "outputs": [],
   "source": [
    "census_df = pd.read_csv(\"data/census/mjesto_rođenja_stanovanja.csv\")\n",
    "census_percentages = [col for col in census_df if col.endswith('%')]\n",
    "census_percentages =list(census_percentages)\n",
    "print(census_percentages)"
   ]
  },
  {
   "cell_type": "code",
   "execution_count": null,
   "metadata": {},
   "outputs": [],
   "source": [
    "df = pd.merge(election_results, census_df, left_on=['Županija', 'Grad/općina/država'], right_on=['Županija', 'Grad/općina'], how='inner')\n",
    "df = df[df['Spol'] == 'sv.']\n",
    "\n",
    "for x in census_percentages:\n",
    "  for y in party_percentages:\n",
    "    correlation(df, x, y)\n",
    "    create_plot(df, x ,y)"
   ]
  },
  {
   "cell_type": "markdown",
   "metadata": {},
   "source": [
    "NARODNOST"
   ]
  },
  {
   "cell_type": "code",
   "execution_count": null,
   "metadata": {},
   "outputs": [],
   "source": [
    "census_df = pd.read_csv(\"data/census/narodnost.csv\")\n",
    "census_percentages = [col for col in census_df.columns[5:] if col.endswith('%')]\n",
    "census_percentages =list(census_percentages)\n",
    "print(census_percentages)"
   ]
  },
  {
   "cell_type": "code",
   "execution_count": null,
   "metadata": {},
   "outputs": [],
   "source": [
    "df = pd.merge(election_results, census_df, left_on=['Županija', 'Grad/općina/država'], right_on=['Županija', 'Grad/općina'], how='inner')\n",
    "\n",
    "for x in census_percentages:\n",
    "  for y in party_percentages:\n",
    "    correlation(df, x, y)\n",
    "    create_plot(df, x ,y)"
   ]
  },
  {
   "cell_type": "markdown",
   "metadata": {},
   "source": [
    "PODRUČJE DJELATNOSTI"
   ]
  },
  {
   "cell_type": "code",
   "execution_count": null,
   "metadata": {},
   "outputs": [],
   "source": [
    "census_df = pd.read_csv(\"data/census/područje_djelatnosti.csv\")\n",
    "census_percentages = [col for col in census_df.columns if col.endswith('%')]\n",
    "census_percentages =list(census_percentages)\n",
    "print(census_percentages)"
   ]
  },
  {
   "cell_type": "code",
   "execution_count": null,
   "metadata": {},
   "outputs": [],
   "source": [
    "df = pd.merge(election_results, census_df, left_on=['Županija', 'Grad/općina/država'], right_on=['Županija', 'Grad/općina'], how='inner')\n",
    "df = df[(df['Starost'] == 'Ukupno') & (df['Spol'] == 'sv.')]\n",
    "\n",
    "for x in census_percentages:\n",
    "  for y in party_percentages:\n",
    "    correlation(df, x, y)\n",
    "    create_plot(df, x ,y)"
   ]
  },
  {
   "cell_type": "markdown",
   "metadata": {},
   "source": [
    "POHAĐANJE ŠKOLE"
   ]
  },
  {
   "cell_type": "code",
   "execution_count": null,
   "metadata": {},
   "outputs": [],
   "source": [
    "census_df = pd.read_csv(\"data/census/pohađanje_škole.csv\")\n",
    "census_percentages = [col for col in census_df.columns if col.endswith('%')]\n",
    "census_percentages =list(census_percentages)\n",
    "print(census_percentages)"
   ]
  },
  {
   "cell_type": "code",
   "execution_count": null,
   "metadata": {},
   "outputs": [],
   "source": [
    "df = pd.merge(election_results, census_df, left_on=['Županija', 'Grad/općina/država'], right_on=['Županija', 'Grad/općina'], how='inner')\n",
    "df = df[df['Spol'] == 'sv.']\n",
    "\n",
    "for x in census_percentages:\n",
    "  for y in party_percentages:\n",
    "    correlation(df, x, y)\n",
    "    create_plot(df, x ,y)"
   ]
  },
  {
   "cell_type": "markdown",
   "metadata": {},
   "source": [
    "POLOŽAJ U ZAPOSLENJU"
   ]
  },
  {
   "cell_type": "code",
   "execution_count": null,
   "metadata": {},
   "outputs": [],
   "source": [
    "census_df = pd.read_csv(\"data/census/položaj_u_zaposlenju.csv\")\n",
    "census_percentages = [col for col in census_df.columns if col.endswith('%')]\n",
    "census_percentages =list(census_percentages)\n",
    "print(census_percentages)"
   ]
  },
  {
   "cell_type": "code",
   "execution_count": null,
   "metadata": {},
   "outputs": [],
   "source": [
    "df = pd.merge(election_results, census_df, left_on=['Županija', 'Grad/općina/država'], right_on=['Županija', 'Grad/općina'], how='inner')\n",
    "df = df[(df['Starost'] == 'Ukupno') & (df['Spol'] == 'sv.')]\n",
    "\n",
    "for x in census_percentages:\n",
    "  for y in party_percentages:\n",
    "    correlation(df, x, y)\n",
    "    create_plot(df, x ,y)"
   ]
  },
  {
   "cell_type": "markdown",
   "metadata": {},
   "source": [
    "VJERA"
   ]
  },
  {
   "cell_type": "code",
   "execution_count": null,
   "metadata": {},
   "outputs": [],
   "source": [
    "census_df = pd.read_csv(\"data/census/vjera.csv\")\n",
    "census_percentages = [col for col in census_df.columns[5:] if col.endswith('%')]\n",
    "census_percentages =list(census_percentages)\n",
    "print(census_percentages)"
   ]
  },
  {
   "cell_type": "code",
   "execution_count": null,
   "metadata": {},
   "outputs": [],
   "source": [
    "df = pd.merge(election_results, census_df, left_on=['Županija', 'Grad/općina/država'], right_on=['Županija', 'Grad/općina'], how='inner')\n",
    "\n",
    "for x in census_percentages:\n",
    "  for y in party_percentages:\n",
    "    correlation(df, x, y)\n",
    "    create_plot(df, x ,y)"
   ]
  },
  {
   "cell_type": "markdown",
   "metadata": {},
   "source": [
    "ZAPOSLENOST PREMA ZANIMANJU"
   ]
  },
  {
   "cell_type": "code",
   "execution_count": null,
   "metadata": {},
   "outputs": [],
   "source": [
    "census_df = pd.read_csv(\"data/census/zaposlenost_prema_zanimanju.csv\")\n",
    "census_percentages = [col for col in census_df.columns if col.endswith('%')]\n",
    "census_percentages =list(census_percentages)\n",
    "print(census_percentages)"
   ]
  },
  {
   "cell_type": "code",
   "execution_count": null,
   "metadata": {},
   "outputs": [],
   "source": [
    "df = pd.merge(election_results, census_df, left_on=['Županija', 'Grad/općina/država'], right_on=['Županija', 'Grad/općina'], how='inner')\n",
    "df = df[df['Starost'] == 'Ukupno']\n",
    "\n",
    "for x in census_percentages:\n",
    "  for y in party_percentages:\n",
    "    correlation(df, x, y)\n",
    "    create_plot(df, x ,y)"
   ]
  },
  {
   "cell_type": "markdown",
   "metadata": {},
   "source": [
    "ZAVRŠENA ŠKOLA"
   ]
  },
  {
   "cell_type": "code",
   "execution_count": null,
   "metadata": {},
   "outputs": [],
   "source": [
    "census_df = pd.read_csv(\"data/census/završena_škola.csv\")\n",
    "census_percentages = [col for col in census_df.columns if col.endswith('%')]\n",
    "census_percentages =list(census_percentages)\n",
    "print(census_percentages)"
   ]
  },
  {
   "cell_type": "code",
   "execution_count": null,
   "metadata": {},
   "outputs": [],
   "source": [
    "df = pd.merge(election_results, census_df, left_on=['Županija', 'Grad/općina/država'], right_on=['Županija', 'Grad/općina'], how='inner')\n",
    "df = df[(df['Starost'] == 'Ukupno') & (df['Spol'] == 'sv.')]\n",
    "\n",
    "for x in census_percentages:\n",
    "  for y in party_percentages:\n",
    "    correlation(df, x, y)\n",
    "    create_plot(df, x ,y)"
   ]
  },
  {
   "cell_type": "markdown",
   "metadata": {},
   "source": [
    "KORELACIJA REZULTATA STRANAKA S REZULTATIMA DRUGIH STRANAKA"
   ]
  },
  {
   "cell_type": "code",
   "execution_count": null,
   "metadata": {},
   "outputs": [],
   "source": [
    "census_df = pd.read_csv(\"data/census/dob.csv\")\n",
    "df = pd.merge(election_results, census_df, left_on=['Županija', 'Grad/općina/država'], right_on=['Županija', 'Grad/općina'], how='inner')\n",
    "df = df[df['Spol'] == 'sv.']\n",
    "\n",
    "for x in party_percentages:\n",
    "  for y in party_percentages:\n",
    "    correlation(df, x, y)\n",
    "    create_plot(df, x ,y)"
   ]
  },
  {
   "cell_type": "markdown",
   "metadata": {},
   "source": [
    "KORELACIJA REZULTATA STRANAKA I BROJA STANOVNIKA"
   ]
  },
  {
   "cell_type": "code",
   "execution_count": null,
   "metadata": {},
   "outputs": [],
   "source": [
    "census_df = pd.read_csv(\"data/census/dob.csv\")\n",
    "df = pd.merge(election_results, census_df, left_on=['Županija', 'Grad/općina/država'], right_on=['Županija', 'Grad/općina'], how='inner')\n",
    "df = df[df['Spol'] == 'sv.']\n",
    "\n",
    "x = 'Ukupno'\n",
    "print(x)\n",
    "for y in party_percentages:\n",
    "  correlation(df, x, y)\n",
    "  create_plot(df, x ,y)"
   ]
  }
 ],
 "metadata": {
  "kernelspec": {
   "display_name": "venv",
   "language": "python",
   "name": "python3"
  },
  "language_info": {
   "codemirror_mode": {
    "name": "ipython",
    "version": 3
   },
   "file_extension": ".py",
   "mimetype": "text/x-python",
   "name": "python",
   "nbconvert_exporter": "python",
   "pygments_lexer": "ipython3",
   "version": "3.12.3"
  }
 },
 "nbformat": 4,
 "nbformat_minor": 2
}
